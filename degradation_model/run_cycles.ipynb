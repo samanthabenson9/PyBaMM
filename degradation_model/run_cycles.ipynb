{
 "cells": [
  {
   "cell_type": "markdown",
   "metadata": {},
   "source": [
    "# Note: Refresh notebook after updating the parameters in inputs."
   ]
  },
  {
   "cell_type": "code",
   "execution_count": 1,
   "metadata": {},
   "outputs": [],
   "source": [
    "import pybamm # loads pybamm package\n",
    "import matplotlib.pyplot as plt # package for plotting\n",
    "import numpy as np # for arrays\n",
    "import pandas as pd # for structure use .csv for importing and exporting\n",
    "import math # log, sin, exp\n",
    "from scipy.integrate import solve_ivp # integration, used in accelerated simulation\n",
    "import pickle # for saving simulations\n",
    "\n",
    "%matplotlib widget"
   ]
  },
  {
   "cell_type": "code",
   "execution_count": 2,
   "metadata": {},
   "outputs": [
    {
     "ename": "TypeError",
     "evalue": "_get_standard_active_material_variables() missing 1 required positional argument: 'n_nickel_diss'",
     "output_type": "error",
     "traceback": [
      "\u001b[1;31m---------------------------------------------------------------------------\u001b[0m",
      "\u001b[1;31mTypeError\u001b[0m                                 Traceback (most recent call last)",
      "\u001b[1;32mc:\\Users\\pansr\\Documents\\Research\\repos\\deg_model\\degradation_model\\run_cycles.ipynb Cell 3\u001b[0m line \u001b[0;36m2\n\u001b[0;32m      <a href='vscode-notebook-cell:/c%3A/Users/pansr/Documents/Research/repos/deg_model/degradation_model/run_cycles.ipynb#W4sZmlsZQ%3D%3D?line=0'>1</a>\u001b[0m parameter_values \u001b[39m=\u001b[39m pybamm\u001b[39m.\u001b[39mParameterValues(chemistry\u001b[39m=\u001b[39mpybamm\u001b[39m.\u001b[39mparameter_sets\u001b[39m.\u001b[39mSiegel2022)\n\u001b[1;32m----> <a href='vscode-notebook-cell:/c%3A/Users/pansr/Documents/Research/repos/deg_model/degradation_model/run_cycles.ipynb#W4sZmlsZQ%3D%3D?line=1'>2</a>\u001b[0m spme \u001b[39m=\u001b[39m pybamm\u001b[39m.\u001b[39;49mlithium_ion\u001b[39m.\u001b[39;49mSPMe()\n\u001b[0;32m      <a href='vscode-notebook-cell:/c%3A/Users/pansr/Documents/Research/repos/deg_model/degradation_model/run_cycles.ipynb#W4sZmlsZQ%3D%3D?line=3'>4</a>\u001b[0m c_rate_d \u001b[39m=\u001b[39m \u001b[39m\"\u001b[39m\u001b[39mC/3\u001b[39m\u001b[39m\"\u001b[39m\n\u001b[0;32m      <a href='vscode-notebook-cell:/c%3A/Users/pansr/Documents/Research/repos/deg_model/degradation_model/run_cycles.ipynb#W4sZmlsZQ%3D%3D?line=4'>5</a>\u001b[0m c_rate_c \u001b[39m=\u001b[39m \u001b[39m\"\u001b[39m\u001b[39mC/3\u001b[39m\u001b[39m\"\u001b[39m\n",
      "File \u001b[1;32mc:\\users\\pansr\\documents\\research\\repos\\deg_model\\pybamm\\models\\full_battery_models\\lithium_ion\\spme.py:49\u001b[0m, in \u001b[0;36mSPMe.__init__\u001b[1;34m(self, options, name, build)\u001b[0m\n\u001b[0;32m     46\u001b[0m \u001b[39mself\u001b[39m\u001b[39m.\u001b[39mx_average \u001b[39m=\u001b[39m \u001b[39mTrue\u001b[39;00m\n\u001b[0;32m     48\u001b[0m \u001b[39m# Initialize with the SPM\u001b[39;00m\n\u001b[1;32m---> 49\u001b[0m \u001b[39msuper\u001b[39;49m()\u001b[39m.\u001b[39;49m\u001b[39m__init__\u001b[39;49m(options, name, build)\n",
      "File \u001b[1;32mc:\\users\\pansr\\documents\\research\\repos\\deg_model\\pybamm\\models\\full_battery_models\\lithium_ion\\spm.py:62\u001b[0m, in \u001b[0;36mSPM.__init__\u001b[1;34m(self, options, name, build)\u001b[0m\n\u001b[0;32m     58\u001b[0m     options[\u001b[39m\"\u001b[39m\u001b[39mx-average side reactions\u001b[39m\u001b[39m\"\u001b[39m] \u001b[39m=\u001b[39m \u001b[39m\"\u001b[39m\u001b[39mtrue\u001b[39m\u001b[39m\"\u001b[39m\n\u001b[0;32m     60\u001b[0m \u001b[39msuper\u001b[39m()\u001b[39m.\u001b[39m\u001b[39m__init__\u001b[39m(options, name)\n\u001b[1;32m---> 62\u001b[0m \u001b[39mself\u001b[39;49m\u001b[39m.\u001b[39;49mset_submodels(build)\n\u001b[0;32m     64\u001b[0m \u001b[39mif\u001b[39;00m \u001b[39mself\u001b[39m\u001b[39m.\u001b[39m\u001b[39m__class__\u001b[39m \u001b[39m!=\u001b[39m \u001b[39m\"\u001b[39m\u001b[39mMPM\u001b[39m\u001b[39m\"\u001b[39m:\n\u001b[0;32m     65\u001b[0m     pybamm\u001b[39m.\u001b[39mcitations\u001b[39m.\u001b[39mregister(\u001b[39m\"\u001b[39m\u001b[39mMarquis2019\u001b[39m\u001b[39m\"\u001b[39m)\n",
      "File \u001b[1;32mc:\\users\\pansr\\documents\\research\\repos\\deg_model\\pybamm\\models\\full_battery_models\\lithium_ion\\base_lithium_ion_model.py:82\u001b[0m, in \u001b[0;36mBaseModel.set_submodels\u001b[1;34m(self, build)\u001b[0m\n\u001b[0;32m     79\u001b[0m     \u001b[39mself\u001b[39m\u001b[39m.\u001b[39mset_li_metal_counter_electrode_submodels()\n\u001b[0;32m     81\u001b[0m \u001b[39mif\u001b[39;00m build:\n\u001b[1;32m---> 82\u001b[0m     \u001b[39mself\u001b[39;49m\u001b[39m.\u001b[39;49mbuild_model()\n",
      "File \u001b[1;32mc:\\users\\pansr\\documents\\research\\repos\\deg_model\\pybamm\\models\\full_battery_models\\base_battery_model.py:981\u001b[0m, in \u001b[0;36mBaseBatteryModel.build_model\u001b[1;34m(self)\u001b[0m\n\u001b[0;32m    978\u001b[0m \u001b[39mdef\u001b[39;00m \u001b[39mbuild_model\u001b[39m(\u001b[39mself\u001b[39m):\n\u001b[0;32m    979\u001b[0m \n\u001b[0;32m    980\u001b[0m     \u001b[39m# Build model variables and equations\u001b[39;00m\n\u001b[1;32m--> 981\u001b[0m     \u001b[39mself\u001b[39;49m\u001b[39m.\u001b[39;49m_build_model()\n\u001b[0;32m    983\u001b[0m     \u001b[39m# Set battery specific variables\u001b[39;00m\n\u001b[0;32m    984\u001b[0m     pybamm\u001b[39m.\u001b[39mlogger\u001b[39m.\u001b[39mdebug(\u001b[39m\"\u001b[39m\u001b[39mSetting voltage variables (\u001b[39m\u001b[39m{}\u001b[39;00m\u001b[39m)\u001b[39m\u001b[39m\"\u001b[39m\u001b[39m.\u001b[39mformat(\u001b[39mself\u001b[39m\u001b[39m.\u001b[39mname))\n",
      "File \u001b[1;32mc:\\users\\pansr\\documents\\research\\repos\\deg_model\\pybamm\\models\\base_model.py:576\u001b[0m, in \u001b[0;36mBaseModel._build_model\u001b[1;34m(self)\u001b[0m\n\u001b[0;32m    573\u001b[0m pybamm\u001b[39m.\u001b[39mlogger\u001b[39m.\u001b[39minfo(\u001b[39m\"\u001b[39m\u001b[39mStart building \u001b[39m\u001b[39m{}\u001b[39;00m\u001b[39m\"\u001b[39m\u001b[39m.\u001b[39mformat(\u001b[39mself\u001b[39m\u001b[39m.\u001b[39mname))\n\u001b[0;32m    575\u001b[0m \u001b[39mif\u001b[39;00m \u001b[39mself\u001b[39m\u001b[39m.\u001b[39m_built_fundamental_and_external \u001b[39mis\u001b[39;00m \u001b[39mFalse\u001b[39;00m:\n\u001b[1;32m--> 576\u001b[0m     \u001b[39mself\u001b[39;49m\u001b[39m.\u001b[39;49mbuild_fundamental_and_external()\n\u001b[0;32m    578\u001b[0m \u001b[39mself\u001b[39m\u001b[39m.\u001b[39mbuild_coupled_variables()\n\u001b[0;32m    580\u001b[0m \u001b[39mself\u001b[39m\u001b[39m.\u001b[39mbuild_model_equations()\n",
      "File \u001b[1;32mc:\\users\\pansr\\documents\\research\\repos\\deg_model\\pybamm\\models\\full_battery_models\\base_battery_model.py:878\u001b[0m, in \u001b[0;36mBaseBatteryModel.build_fundamental_and_external\u001b[1;34m(self)\u001b[0m\n\u001b[0;32m    872\u001b[0m \u001b[39mfor\u001b[39;00m submodel_name, submodel \u001b[39min\u001b[39;00m \u001b[39mself\u001b[39m\u001b[39m.\u001b[39msubmodels\u001b[39m.\u001b[39mitems():\n\u001b[0;32m    873\u001b[0m     pybamm\u001b[39m.\u001b[39mlogger\u001b[39m.\u001b[39mdebug(\n\u001b[0;32m    874\u001b[0m         \u001b[39m\"\u001b[39m\u001b[39mGetting fundamental variables for \u001b[39m\u001b[39m{}\u001b[39;00m\u001b[39m submodel (\u001b[39m\u001b[39m{}\u001b[39;00m\u001b[39m)\u001b[39m\u001b[39m\"\u001b[39m\u001b[39m.\u001b[39mformat(\n\u001b[0;32m    875\u001b[0m             submodel_name, \u001b[39mself\u001b[39m\u001b[39m.\u001b[39mname\n\u001b[0;32m    876\u001b[0m         )\n\u001b[0;32m    877\u001b[0m     )\n\u001b[1;32m--> 878\u001b[0m     \u001b[39mself\u001b[39m\u001b[39m.\u001b[39mvariables\u001b[39m.\u001b[39mupdate(submodel\u001b[39m.\u001b[39;49mget_fundamental_variables())\n\u001b[0;32m    880\u001b[0m \u001b[39m# Set the submodels that are external\u001b[39;00m\n\u001b[0;32m    881\u001b[0m \u001b[39mfor\u001b[39;00m sub \u001b[39min\u001b[39;00m \u001b[39mself\u001b[39m\u001b[39m.\u001b[39moptions[\u001b[39m\"\u001b[39m\u001b[39mexternal submodels\u001b[39m\u001b[39m\"\u001b[39m]:\n",
      "File \u001b[1;32mc:\\users\\pansr\\documents\\research\\repos\\deg_model\\pybamm\\models\\submodels\\active_material\\constant_active_material.py:32\u001b[0m, in \u001b[0;36mConstant.get_fundamental_variables\u001b[1;34m(self)\u001b[0m\n\u001b[0;32m     27\u001b[0m eps_solid \u001b[39m=\u001b[39m \u001b[39mself\u001b[39m\u001b[39m.\u001b[39mphase_param\u001b[39m.\u001b[39mepsilon_s\n\u001b[0;32m     28\u001b[0m deps_solid_dt \u001b[39m=\u001b[39m pybamm\u001b[39m.\u001b[39mFullBroadcast(\n\u001b[0;32m     29\u001b[0m     \u001b[39m0\u001b[39m, \u001b[39mf\u001b[39m\u001b[39m\"\u001b[39m\u001b[39m{\u001b[39;00m\u001b[39mself\u001b[39m\u001b[39m.\u001b[39mdomain\u001b[39m.\u001b[39mlower()\u001b[39m}\u001b[39;00m\u001b[39m electrode\u001b[39m\u001b[39m\"\u001b[39m, \u001b[39m\"\u001b[39m\u001b[39mcurrent collector\u001b[39m\u001b[39m\"\u001b[39m\n\u001b[0;32m     30\u001b[0m )\n\u001b[1;32m---> 32\u001b[0m variables \u001b[39m=\u001b[39m \u001b[39mself\u001b[39;49m\u001b[39m.\u001b[39;49m_get_standard_active_material_variables(eps_solid)\n\u001b[0;32m     33\u001b[0m variables\u001b[39m.\u001b[39mupdate(\n\u001b[0;32m     34\u001b[0m     \u001b[39mself\u001b[39m\u001b[39m.\u001b[39m_get_standard_active_material_change_variables(deps_solid_dt)\n\u001b[0;32m     35\u001b[0m )\n\u001b[0;32m     37\u001b[0m \u001b[39mreturn\u001b[39;00m variables\n",
      "\u001b[1;31mTypeError\u001b[0m: _get_standard_active_material_variables() missing 1 required positional argument: 'n_nickel_diss'"
     ]
    }
   ],
   "source": [
    "parameter_values = pybamm.ParameterValues(chemistry=pybamm.parameter_sets.Siegel2022)\n",
    "spme = pybamm.lithium_ion.SPMe()\n",
    "\n",
    "c_rate_d = \"C/3\"\n",
    "c_rate_c = \"C/3\"\n",
    "\n",
    "\n",
    "experiment = pybamm.Experiment(\n",
    "    [\n",
    "        (\"Discharge at \"+c_rate_d+\" until 3V\",\n",
    "        \"Rest for 10 sec\",\n",
    "        \"Charge at \"+c_rate_c+\" until 4.2V\", \n",
    "        \"Hold at 4.2V until C/20\")\n",
    "    ] ,\n",
    "    # ] *40,\n",
    "    termination=\"50% capacity\",\n",
    "#     cccv_handling=\"ode\",\n",
    ")\n",
    "\n",
    "sim_0 = pybamm.Simulation(spme, experiment=experiment, parameter_values=parameter_values, \n",
    "                            solver=pybamm.CasadiSolver(\"safe\"))\n",
    "sol_0 = sim_0.solve(initial_soc=1)\n",
    "\n",
    "t = sol_0[\"Time [s]\"].entries\n",
    "I = sol_0[\"Current [A]\"].entries\n",
    "Q = sol_0['Discharge capacity [A.h]'].entries\n",
    "Vt = sol_0[\"Terminal voltage [V]\"].entries"
   ]
  },
  {
   "cell_type": "code",
   "execution_count": null,
   "metadata": {},
   "outputs": [],
   "source": [
    "fig,ax = plt.subplots(2,1)\n",
    "ax1 = ax.flat[0]\n",
    "ax1.plot(t,Vt)\n",
    "ax1.set_xlim(left=0)\n",
    "ax1.set_xlabel('Time [s]')\n",
    "ax1.set_ylabel('Voltage [V]')\n",
    "ax2 = ax.flat[1]\n",
    "ax2.plot(t,I)\n",
    "ax2.set_xlim(left=0)\n",
    "ax2.set_xlabel('Time [s]')\n",
    "ax2.set_ylabel('Current [A]')\n",
    "fig.tight_layout()"
   ]
  },
  {
   "cell_type": "code",
   "execution_count": null,
   "metadata": {},
   "outputs": [],
   "source": [
    "c_rate_d = \"C/20\"\n",
    "c_rate_c = \"C/20\"\n",
    "\n",
    "\n",
    "experiment = pybamm.Experiment(\n",
    "    [\n",
    "        (\"Discharge at \"+c_rate_d+\" until 3V\",\n",
    "        \"Rest for 1 hr\",\n",
    "        \"Charge at \"+c_rate_c+\" until 4.2V\")\n",
    "    ] ,\n",
    "    # ] *40,\n",
    "    termination=\"50% capacity\",\n",
    "#     cccv_handling=\"ode\",\n",
    ")\n",
    "\n",
    "sim_1 = pybamm.Simulation(spme, experiment=experiment, parameter_values=parameter_values, \n",
    "                            solver=pybamm.CasadiSolver(\"safe\"))\n",
    "sol_1 = sim_1.solve(initial_soc=1)\n",
    "\n",
    "t = sol_1[\"Time [s]\"].entries\n",
    "I = sol_1[\"Current [A]\"].entries\n",
    "Q = sol_1['Discharge capacity [A.h]'].entries\n",
    "Vt = sol_1[\"Terminal voltage [V]\"].entries"
   ]
  },
  {
   "cell_type": "code",
   "execution_count": null,
   "metadata": {},
   "outputs": [],
   "source": [
    "fig,ax = plt.subplots(2,1)\n",
    "ax1 = ax.flat[0]\n",
    "ax1.plot(t,Vt)\n",
    "ax1.set_xlim(left=0)\n",
    "ax1.set_xlabel('Time [s]')\n",
    "ax1.set_ylabel('Voltage [V]')\n",
    "ax2 = ax.flat[1]\n",
    "ax2.plot(t,I)\n",
    "ax2.set_xlim(left=0)\n",
    "ax2.set_xlabel('Time [s]')\n",
    "ax2.set_ylabel('Current [A]')\n",
    "fig.tight_layout()"
   ]
  },
  {
   "cell_type": "markdown",
   "metadata": {},
   "source": [
    "# Alternatively, you can update parameters in the script, on the fly, instead of updating in the inputs folder. But this change will be valid only in this script."
   ]
  },
  {
   "cell_type": "code",
   "execution_count": null,
   "metadata": {},
   "outputs": [],
   "source": [
    "parameter_values = pybamm.ParameterValues(chemistry=pybamm.parameter_sets.Siegel2022)\n",
    "\n",
    "c_rate_d = \"C/3\"\n",
    "c_rate_c = \"C/3\"\n",
    "\n",
    "parameter_values.update(\n",
    "    {\n",
    "        \"Negative electrode conductivity [S.m-1]\": 100,\n",
    "        \"Maximum concentration in negative electrode [mol.m-3]\": 28746,\n",
    "        \"Negative electrode diffusion coefficient [m2.s-1]\": 5.0E-15,\n",
    "    },\n",
    "    check_already_exists=False,\n",
    ")\n",
    "\n",
    "experiment = pybamm.Experiment(\n",
    "    [\n",
    "        (\"Discharge at \"+c_rate_d+\" until 3V\",\n",
    "        \"Rest for 10 sec\",\n",
    "        \"Charge at \"+c_rate_c+\" until 4.2V\", \n",
    "        \"Hold at 4.2V until C/20\")\n",
    "    ] ,\n",
    "    # ] *40,\n",
    "    termination=\"50% capacity\",\n",
    "#     cccv_handling=\"ode\",\n",
    ")\n",
    "\n",
    "sim_0 = pybamm.Simulation(spme, experiment=experiment, parameter_values=parameter_values, \n",
    "                            solver=pybamm.CasadiSolver(\"safe\"))\n",
    "sol_0 = sim_0.solve(initial_soc=1)\n",
    "\n",
    "t = sol_0[\"Time [s]\"].entries\n",
    "I = sol_0[\"Current [A]\"].entries\n",
    "Q = sol_0['Discharge capacity [A.h]'].entries\n",
    "Vt = sol_0[\"Terminal voltage [V]\"].entries"
   ]
  },
  {
   "cell_type": "code",
   "execution_count": null,
   "metadata": {},
   "outputs": [],
   "source": [
    "fig,ax = plt.subplots(2,1)\n",
    "ax1 = ax.flat[0]\n",
    "ax1.plot(t,Vt)\n",
    "ax1.set_xlim(left=0)\n",
    "ax1.set_xlabel('Time [s]')\n",
    "ax1.set_ylabel('Voltage [V]')\n",
    "ax2 = ax.flat[1]\n",
    "ax2.plot(t,I)\n",
    "ax2.set_xlim(left=0)\n",
    "ax2.set_xlabel('Time [s]')\n",
    "ax2.set_ylabel('Current [A]')\n",
    "fig.tight_layout()"
   ]
  }
 ],
 "metadata": {
  "kernelspec": {
   "display_name": "windows-dev",
   "language": "python",
   "name": "python3"
  },
  "language_info": {
   "codemirror_mode": {
    "name": "ipython",
    "version": 3
   },
   "file_extension": ".py",
   "mimetype": "text/x-python",
   "name": "python",
   "nbconvert_exporter": "python",
   "pygments_lexer": "ipython3",
   "version": "3.9.7"
  },
  "orig_nbformat": 4
 },
 "nbformat": 4,
 "nbformat_minor": 2
}
