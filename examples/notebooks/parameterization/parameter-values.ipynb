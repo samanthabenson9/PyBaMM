{
 "cells": [
  {
   "cell_type": "markdown",
   "metadata": {},
   "source": [
    "# Parameter Values\n",
    "\n",
    "In this notebook, we explain how parameter values are set for a model. Information on creating new parameter sets is provided in our [online documentation](https://pybamm.readthedocs.io/en/latest/source/parameters/parameter_sets.html#adding-parameter-sets)"
   ]
  },
  {
   "cell_type": "markdown",
   "metadata": {},
   "source": [
    "## Setting up parameter values"
   ]
  },
  {
   "cell_type": "code",
   "execution_count": 1,
   "metadata": {},
   "outputs": [
    {
     "name": "stdout",
     "output_type": "stream",
     "text": [
      "Note: you may need to restart the kernel to use updated packages.\n"
     ]
    }
   ],
   "source": [
    "%pip install pybamm -q    # install PyBaMM if it is not installed\n",
    "import pybamm\n",
    "import tests\n",
    "import numpy as np\n",
    "import os\n",
    "import matplotlib.pyplot as plt\n",
    "from pprint import pprint\n",
    "os.chdir(pybamm.__path__[0]+'/..')"
   ]
  },
  {
   "cell_type": "markdown",
   "metadata": {},
   "source": [
    "In `pybamm`, the object that sets parameter values for a model is the `ParameterValues` class, which extends `dict`. This takes the values of the parameters as input, which can be either a dictionary,"
   ]
  },
  {
   "cell_type": "code",
   "execution_count": 2,
   "metadata": {},
   "outputs": [
    {
     "name": "stdout",
     "output_type": "stream",
     "text": [
      "parameter values are {'a': 1,\n",
      " 'b': 2,\n",
      " 'c': 3}\n"
     ]
    }
   ],
   "source": [
    "param_dict = {\"a\": 1, \"b\": 2, \"c\": 3}\n",
    "parameter_values = pybamm.ParameterValues(param_dict)\n",
    "print(\"parameter values are {}\".format(parameter_values))"
   ]
  },
  {
   "cell_type": "markdown",
   "metadata": {},
   "source": [
    "or a csv file,"
   ]
  },
  {
   "cell_type": "code",
   "execution_count": 3,
   "metadata": {},
   "outputs": [
    {
     "name": "stdout",
     "output_type": "stream",
     "text": [
      "parameter values are {'a': 4,\n",
      " 'b': 5,\n",
      " 'c': 6}\n"
     ]
    }
   ],
   "source": [
    "f = open(\"param_file.csv\", \"w+\")\n",
    "f.write(\n",
    "\"\"\"\n",
    "Name [units],Value\n",
    "a, 4\n",
    "b, 5\n",
    "c, 6\n",
    "\"\"\"\n",
    ")\n",
    "f.close()\n",
    "\n",
    "parameter_values = pybamm.ParameterValues(\"param_file.csv\")\n",
    "print(\"parameter values are {}\".format(parameter_values))"
   ]
  },
  {
   "cell_type": "markdown",
   "metadata": {},
   "source": [
    "or using one of the pre-set chemistries"
   ]
  },
  {
   "cell_type": "code",
   "execution_count": 4,
   "metadata": {},
   "outputs": [
    {
     "name": "stdout",
     "output_type": "stream",
     "text": [
      "Negative current collector thickness is 2.5e-05 m\n"
     ]
    }
   ],
   "source": [
    "chem_parameter_values = pybamm.ParameterValues(\"Marquis2019\")\n",
    "print(\"Negative current collector thickness is {} m\".format(\n",
    "    chem_parameter_values[\"Negative current collector thickness [m]\"])\n",
    ")"
   ]
  },
  {
   "cell_type": "markdown",
   "metadata": {},
   "source": [
    "We can input functions into the parameter value (note we bypass the check that the parameter already exists)"
   ]
  },
  {
   "cell_type": "code",
   "execution_count": 5,
   "metadata": {},
   "outputs": [
    {
     "name": "stdout",
     "output_type": "stream",
     "text": [
      "parameter values are {'a': 4,\n",
      " 'b': 5,\n",
      " 'c': 6,\n",
      " 'cube function': <function cubed at 0x16f3921f0>}\n"
     ]
    }
   ],
   "source": [
    "def cubed(x):\n",
    "    return x ** 3\n",
    "parameter_values.update({\"cube function\": cubed}, check_already_exists=False)\n",
    "print(\"parameter values are {}\".format(parameter_values))"
   ]
  },
  {
   "cell_type": "markdown",
   "metadata": {},
   "source": [
    "## Setting parameters for an expression"
   ]
  },
  {
   "cell_type": "markdown",
   "metadata": {},
   "source": [
    "We represent parameters in models using the classes `Parameter` and `FunctionParameter`. These cannot be evaluated directly,"
   ]
  },
  {
   "cell_type": "code",
   "execution_count": 6,
   "metadata": {
    "tags": [
     "raises-exception"
    ]
   },
   "outputs": [
    {
     "name": "stdout",
     "output_type": "stream",
     "text": [
      "method self.evaluate() not implemented for symbol a of type <class 'pybamm.expression_tree.parameter.Parameter'>\n"
     ]
    }
   ],
   "source": [
    "a = pybamm.Parameter(\"a\")\n",
    "b = pybamm.Parameter(\"b\")\n",
    "c = pybamm.Parameter(\"c\")\n",
    "func = pybamm.FunctionParameter(\"cube function\", {\"a\": a})\n",
    "\n",
    "expr = a + b * c\n",
    "try:\n",
    "    expr.evaluate()\n",
    "except NotImplementedError as e:\n",
    "    print(e)"
   ]
  },
  {
   "cell_type": "markdown",
   "metadata": {},
   "source": [
    "However, the `ParameterValues` class can walk through an expression, changing an `Parameter` objects it sees to the appropriate `Scalar` and any `FunctionParameter` object to the appropriate `Function`, and the resulting expression can be evaluated"
   ]
  },
  {
   "cell_type": "code",
   "execution_count": 7,
   "metadata": {},
   "outputs": [
    {
     "name": "stdout",
     "output_type": "stream",
     "text": [
      "34.0 = 34.0\n"
     ]
    }
   ],
   "source": [
    "expr_eval = parameter_values.process_symbol(expr)\n",
    "print(\"{} = {}\".format(expr_eval, expr_eval.evaluate()))"
   ]
  },
  {
   "cell_type": "code",
   "execution_count": 8,
   "metadata": {},
   "outputs": [
    {
     "name": "stdout",
     "output_type": "stream",
     "text": [
      "64.0 = 64.0\n"
     ]
    }
   ],
   "source": [
    "func_eval = parameter_values.process_symbol(func)\n",
    "print(\"{} = {}\".format(func_eval, func_eval.evaluate()))"
   ]
  },
  {
   "cell_type": "markdown",
   "metadata": {},
   "source": [
    "If a parameter needs to be changed often (for example, for convergence studies or parameter estimation), the `InputParameter` class should be used. This is not fixed by parameter values, and its value can be set on evaluation (or on solve):"
   ]
  },
  {
   "cell_type": "code",
   "execution_count": 9,
   "metadata": {},
   "outputs": [
    {
     "name": "stdout",
     "output_type": "stream",
     "text": [
      "with d = 3, 2.0 + d = 5.0\n",
      "with d = 5, 2.0 + d = 7.0\n"
     ]
    }
   ],
   "source": [
    "d = pybamm.InputParameter(\"d\")\n",
    "expr = 2 + d\n",
    "expr_eval = parameter_values.process_symbol(expr)\n",
    "print(\"with d = {}, {} = {}\".format(3, expr_eval, expr_eval.evaluate(inputs={\"d\": 3})))\n",
    "print(\"with d = {}, {} = {}\".format(5, expr_eval, expr_eval.evaluate(inputs={\"d\": 5})))"
   ]
  },
  {
   "cell_type": "markdown",
   "metadata": {},
   "source": [
    "## Solving a model"
   ]
  },
  {
   "cell_type": "markdown",
   "metadata": {},
   "source": [
    "The code below shows the entire workflow of:\n",
    "\n",
    "1. Proposing a toy model\n",
    "2. Discretising and solving it first with one set of parameters,\n",
    "3. then updating the parameters and solving again\n",
    "\n",
    "The toy model used is:\n",
    "$$\\frac{\\mathrm{d} u}{\\mathrm{d} t} = -a u$$\n",
    "\n",
    "with initial conditions $u(0) = b$. The model is first solved with $a = 3, b = 2$, then with $a = 4, b = -1$"
   ]
  },
  {
   "cell_type": "code",
   "execution_count": 10,
   "metadata": {},
   "outputs": [
    {
     "data": {
      "image/png": "[encoded data removed]",
      "text/plain": [
       "<Figure size 1300x400 with 2 Axes>"
      ]
     },
     "metadata": {},
     "output_type": "display_data"
    }
   ],
   "source": [
    "# Create model\n",
    "model = pybamm.BaseModel()\n",
    "u = pybamm.Variable(\"u\")\n",
    "a = pybamm.Parameter(\"a\")\n",
    "b = pybamm.Parameter(\"b\")\n",
    "model.rhs = {u: -a * u}\n",
    "model.initial_conditions = {u: b}\n",
    "model.variables = {\"u\": u, \"a\": a, \"b\": b}\n",
    "\n",
    "# Set parameters, with a as an input ########################\n",
    "parameter_values = pybamm.ParameterValues({\"a\": \"[input]\", \"b\": 2})\n",
    "parameter_values.process_model(model)\n",
    "#############################################################\n",
    "\n",
    "# Discretise using default discretisation\n",
    "disc = pybamm.Discretisation()\n",
    "disc.process_model(model)\n",
    "\n",
    "# Solve\n",
    "t_eval = np.linspace(0, 2, 30)\n",
    "ode_solver = pybamm.ScipySolver()\n",
    "solution = ode_solver.solve(model, t_eval, inputs={\"a\": 3})\n",
    "\n",
    "# Post-process, so that u1 can be called at any time t (using interpolation)\n",
    "t_sol1 = solution.t\n",
    "u1 = solution[\"u\"]\n",
    "\n",
    "# Solve again with different inputs ###############################\n",
    "solution = ode_solver.solve(model, t_eval, inputs={\"a\": -1})\n",
    "t_sol2 = solution.t\n",
    "u2 = solution[\"u\"]\n",
    "###################################################################\n",
    "\n",
    "# Plot\n",
    "t_fine = np.linspace(0,t_eval[-1],1000)\n",
    "\n",
    "fig, (ax1, ax2) = plt.subplots(1, 2, figsize=(13,4))\n",
    "ax1.plot(t_fine, 2 * np.exp(-3 * t_fine), t_sol1, u1(t_sol1), \"o\")\n",
    "ax1.set_xlabel(\"t\")\n",
    "ax1.legend([\"2 * exp(-3 * t)\", \"u1\"], loc=\"best\")\n",
    "ax1.set_title(\"a = 3, b = 2\")\n",
    "\n",
    "ax2.plot(t_fine, 2 * np.exp(t_fine), t_sol2, u2(t_sol2), \"o\")\n",
    "ax2.set_xlabel(\"t\")\n",
    "ax2.legend([\"2 * exp(t)\", \"u2\"], loc=\"best\")\n",
    "ax2.set_title(\"a = -1, b = 2\")\n",
    "\n",
    "\n",
    "plt.tight_layout()\n",
    "plt.show()"
   ]
  },
  {
   "cell_type": "code",
   "execution_count": 11,
   "metadata": {},
   "outputs": [
    {
     "data": {
      "text/plain": [
       "{Variable(-0x5fac921fa1fcf102, u, children=[], domains={}): Multiplication(-0x539f7b6bea36b8da, *, children=['-a', 'y[0:1]'], domains={})}"
      ]
     },
     "execution_count": 11,
     "metadata": {},
     "output_type": "execute_result"
    }
   ],
   "source": [
    "model.rhs"
   ]
  },
  {
   "cell_type": "markdown",
   "metadata": {},
   "source": [
    "## Printing parameter values\n",
    "\n",
    "In most models, it is useful to define dimensionless parameters, which are combinations of other parameters. However, since parameters objects must be processed by the `ParameterValues` class before they can be evaluated, it can be difficult to quickly check the value of a dimensionless parameter. \n",
    "\n",
    "You can print all of the dimensionless parameters in a model by using the `print_parameters` function. Note that the `print_parameters` function also gives the dependence of the parameters on C-rate (as some dimensionless parameters vary with C-rate), but we can ignore that here"
   ]
  },
  {
   "cell_type": "code",
   "execution_count": 12,
   "metadata": {},
   "outputs": [
    {
     "name": "stdout",
     "output_type": "stream",
     "text": [
      "a: 4.0\n",
      "b: 3.0\n",
      "a + b: 7.0\n",
      "a * b: 12.0\n"
     ]
    }
   ],
   "source": [
    "a = pybamm.Parameter(\"a\")\n",
    "b = pybamm.Parameter(\"b\")\n",
    "parameter_values = pybamm.ParameterValues({\"a\": 4, \"b\": 3})\n",
    "parameters = {\"a\": a, \"b\": b, \"a + b\": a + b, \"a * b\": a * b}\n",
    "param_eval = parameter_values.print_parameters(parameters)\n",
    "for name, value in param_eval.items():\n",
    "    print(\"{}: {}\".format(name, value))"
   ]
  },
  {
   "cell_type": "markdown",
   "metadata": {},
   "source": [
    "If you provide an output file to `print_parameters`, the parameters will be printed to that output file."
   ]
  },
  {
   "cell_type": "markdown",
   "metadata": {},
   "source": [
    "## References\n",
    "\n",
    "The relevant papers for this notebook are:"
   ]
  },
  {
   "cell_type": "code",
   "execution_count": 13,
   "metadata": {},
   "outputs": [
    {
     "name": "stdout",
     "output_type": "stream",
     "text": [
      "[1] Joel A. E. Andersson, Joris Gillis, Greg Horn, James B. Rawlings, and Moritz Diehl. CasADi – A software framework for nonlinear optimization and optimal control. Mathematical Programming Computation, 11(1):1–36, 2019. doi:10.1007/s12532-018-0139-4.\n",
      "[2] Charles R. Harris, K. Jarrod Millman, Stéfan J. van der Walt, Ralf Gommers, Pauli Virtanen, David Cournapeau, Eric Wieser, Julian Taylor, Sebastian Berg, Nathaniel J. Smith, and others. Array programming with NumPy. Nature, 585(7825):357–362, 2020. doi:10.1038/s41586-020-2649-2.\n",
      "[3] Scott G. Marquis, Valentin Sulzer, Robert Timms, Colin P. Please, and S. Jon Chapman. An asymptotic derivation of a single particle model with electrolyte. Journal of The Electrochemical Society, 166(15):A3693–A3706, 2019. doi:10.1149/2.0341915jes.\n",
      "[4] Valentin Sulzer, Scott G. Marquis, Robert Timms, Martin Robinson, and S. Jon Chapman. Python Battery Mathematical Modelling (PyBaMM). Journal of Open Research Software, 9(1):14, 2021. doi:10.5334/jors.309.\n",
      "[5] Pauli Virtanen, Ralf Gommers, Travis E. Oliphant, Matt Haberland, Tyler Reddy, David Cournapeau, Evgeni Burovski, Pearu Peterson, Warren Weckesser, Jonathan Bright, and others. SciPy 1.0: fundamental algorithms for scientific computing in Python. Nature Methods, 17(3):261–272, 2020. doi:10.1038/s41592-019-0686-2.\n",
      "\n"
     ]
    }
   ],
   "source": [
    "pybamm.print_citations()"
   ]
  }
 ],
 "metadata": {
  "kernelspec": {
   "display_name": "Python 3.9.13 ('env': venv)",
   "language": "python",
   "name": "python3"
  },
  "language_info": {
   "codemirror_mode": {
    "name": "ipython",
    "version": 3
   },
   "file_extension": ".py",
   "mimetype": "text/x-python",
   "name": "python",
   "nbconvert_exporter": "python",
   "pygments_lexer": "ipython3",
   "version": "3.9.13"
  },
  "toc": {
   "base_numbering": 1,
   "nav_menu": {},
   "number_sections": true,
   "sideBar": true,
   "skip_h1_title": false,
   "title_cell": "Table of Contents",
   "title_sidebar": "Contents",
   "toc_cell": false,
   "toc_position": {},
   "toc_section_display": true,
   "toc_window_display": true
  },
  "vscode": {
   "interpreter": {
    "hash": "67f3ed9e8af079e8de5fb8f15d709e92eebb66264831ea54275d03854d42fc25"
   }
  }
 },
 "nbformat": 4,
 "nbformat_minor": 2
}
