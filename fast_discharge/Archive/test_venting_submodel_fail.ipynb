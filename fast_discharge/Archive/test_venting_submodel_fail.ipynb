{
 "cells": [
  {
   "cell_type": "markdown",
   "metadata": {},
   "source": [
    "# Setup and test algebraic eqn solver"
   ]
  },
  {
   "cell_type": "code",
   "execution_count": 1,
   "metadata": {},
   "outputs": [
    {
     "name": "stdout",
     "output_type": "stream",
     "text": [
      "c:\\Users\\Vivian\\Dropbox (University of Michigan)\\from_box\\Research\\PyBaMM\\PyBaMM\\pybamm\n"
     ]
    }
   ],
   "source": [
    "import sys\n",
    "import os\n",
    "import numpy as np\n",
    "import pandas as pd\n",
    "import os\n",
    "from scipy.interpolate import interp1d\n",
    "import matplotlib.pyplot as plt\n",
    "os.chdir(sys.path[0] + '\\..') # change our working directory to the root of the pybamm folder\n",
    "import pybamm\n",
    "print(pybamm.__path__[0])\n",
    "%matplotlib widget"
   ]
  },
  {
   "cell_type": "code",
   "execution_count": 14,
   "metadata": {},
   "outputs": [],
   "source": [
    "class PouchVenting(pybamm.BaseSubModel):\n",
    "    def __init__(self, param, options = None):\n",
    "        super().__init__(param)\n",
    "\n",
    "    def get_fundamental_variables(self):\n",
    "        delta_sigma = pybamm.Variable(\"Cell expansion stress [kPa]\", domain=\"current collector\")\n",
    "\n",
    "        variables = {\n",
    "            \"Cell expansion stress [kPa]\": delta_sigma,\n",
    "        }\n",
    "        return variables\n",
    "\n",
    "    def get_coupled_variables(self, variables):\n",
    "        param = self.param\n",
    "        m_an = param.therm.m_an\n",
    "        x_sei_0 = param.therm.x_sei_0\n",
    "        M_C6 = param.therm.M_an\n",
    "        V_head_0 = param.therm.V_head_0\n",
    "        A_surf = param.therm.A_surf\n",
    "        L = param.therm.L_poron\n",
    "        E = param.therm.E_poron\n",
    "        alpha_cell = param.therm.alpha_cell\n",
    "        P_crit = param.therm.P_crit\n",
    "        sigma_0 = param.therm.sigma_0\n",
    "        P_atm = param.therm.P_atm\n",
    "\n",
    "        x_sei = variables[\"Fraction of Li in SEI\"]\n",
    "        delta_sigma = variables[\"Cell expansion stress [kPa]\"]\n",
    "        T = variables[\"X-averaged negative electrode temperature\"]\n",
    "        T_dimensional = param.Delta_T * T + param.T_ref\n",
    "        delta_T = param.Delta_T * T\n",
    "\n",
    "        delta_d = L/E*delta_sigma\n",
    "        V_head = V_head_0 + A_surf*(delta_d-alpha_cell*delta_T)   \n",
    "        P_sat = param.therm.P_sat(T) #dimensionless\n",
    "        n_CO2 = m_an*(x_sei_0 - x_sei)/(2*M_C6)\n",
    "        P_CO2 = (n_CO2*constants.R*T/V_head/1000)/P_crit #kPa\n",
    "        P_total = P_CO2 + P_sat \n",
    "\n",
    "        delta_sigma_gas = P_total-sigma_0-P_atm\n",
    "        dleta_sigma_themal_expansion = E*alpha_cell*delta_T/L\n",
    "\n",
    "        \n",
    "        variables = {\n",
    "            \"Electrolyte gas saturation pressure\": P_sat/P_crit,\n",
    "            \"CO2 gas pressure\": P_CO2/P_crit,\n",
    "            \"Total gas pressure [kPa]\": P_total/P_crit,\n",
    "            \"Electrolyte gas saturation pressure [kPa]\": P_sat,\n",
    "            \"CO2 gas pressure [kPa]\": P_CO2,\n",
    "            \"Total gas pressure [kPa]\": P_total,\n",
    "            \"Headspace volume [m3]\": V_head,\n",
    "\n",
    "            \n",
    "        }\n",
    "\n",
    "        return variables\n",
    "\n",
    "    def set_algebraic(self, variables):\n",
    "        param = self.param\n",
    "        P_crit = param.therm.P_crit\n",
    "        L = param.therm.L_poron\n",
    "        E = param.therm.E_poron\n",
    "        alpha_cell = param.therm.alpha_cell\n",
    "        P_atm = param.therm.P_atm\n",
    "        sigma_0 = param.therm.sigma_0\n",
    "    \n",
    "        T = variables[\"X-averaged negative electrode temperature\"]\n",
    "        delta_T = param.Delta_T * T\n",
    "        delta_sigma = variables[\"Cell expansion stress [kPa]\"]\n",
    "        P_total = variables[\"Total gas pressure [kPa]\"]        \n",
    "        self.algebraic = {delta_sigma: pybamm.maximum(P_total-sigma_0-P_atm, E*alpha_cell*delta_T/L)} #pybamm.maximum(P_total-sigma_0-P_atm, E*alpha_cell*delta_T/L)\n",
    "\n",
    "    def set_initial_conditions(self, variables):\n",
    "        # param = self.param\n",
    "        # sigma_0 = param.therm.sigma_0\n",
    "        delta_sigma = variables[\"Cell expansion stress [kPa]\"]\n",
    "        self.initial_conditions = {\n",
    "            delta_sigma: pybamm.Scalar(0), \n",
    "            }"
   ]
  },
  {
   "cell_type": "code",
   "execution_count": 9,
   "metadata": {},
   "outputs": [],
   "source": [
    "# load data import ESC data from file\n",
    "raw_data = pd.read_csv(\"./fast_discharge/ESC_100SOC_full.csv\")\n",
    "esc_start = raw_data[-raw_data['Current Shunt']>1].index[0]\n",
    "# esc_end = raw_data[raw_data['Time (s)']>15*60].index[0]\n",
    "esc_end =len(raw_data)\n",
    "# T_amb = np.mean(raw_data['Cell Temperature'][(raw_data.index < esc_start) & (raw_data['Cell Temperature'] >0)])\n",
    "data = raw_data[['Time (s)', 'Voltage (V)', 'Cell Temperature', 'Current Shunt', 'Force']].loc[esc_start:esc_end].copy()\n",
    "data['Current Shunt'] = -data['Current Shunt']\n",
    "data['Time (s)'] = data['Time (s)'] - data['Time (s)'].loc[esc_start]\n",
    "df_labels = ['t', 'V', 'Temp','I', 'F']\n",
    "data.set_axis(df_labels, axis=1, inplace=True)\n",
    "\n",
    "data.Temp = data.Temp + 273.15\n",
    "\n",
    "temperature_profile = data[['t','Temp']]"
   ]
  },
  {
   "cell_type": "code",
   "execution_count": 36,
   "metadata": {},
   "outputs": [],
   "source": [
    "# options = {\n",
    "#     # 'thermal': pybamm.thermal.Lumped(param),\n",
    "#     'venting': pybamm.venting.PouchVenting(param), \n",
    "#     # 'decomposition': pybamm.decomposition.SeiDecomposition(param),\n",
    "#     # \"external submodels\": [\"thermal\"]\n",
    "# }\n",
    "options = {\n",
    "    # 'thermal': 'x-lumped',\n",
    "    # 'venting': 'true', \n",
    "    'decomposition': 'true',\n",
    "    # \"external submodels\": ['thermal']\n",
    "}\n",
    "# model = pybamm.lithium_ion.SPMe(options = options)\n"
   ]
  },
  {
   "cell_type": "code",
   "execution_count": 54,
   "metadata": {},
   "outputs": [
    {
     "ename": "AttributeError",
     "evalue": "'list' object has no attribute 'get_fundamental_variables'",
     "output_type": "error",
     "traceback": [
      "\u001b[1;31m---------------------------------------------------------------------------\u001b[0m",
      "\u001b[1;31mAttributeError\u001b[0m                            Traceback (most recent call last)",
      "Cell \u001b[1;32mIn[54], line 13\u001b[0m\n\u001b[0;32m      6\u001b[0m model \u001b[39m=\u001b[39m pybamm\u001b[39m.\u001b[39mBaseModel(options)\n\u001b[0;32m      7\u001b[0m model\u001b[39m.\u001b[39msubmodels \u001b[39m=\u001b[39m {\n\u001b[0;32m      8\u001b[0m     \u001b[39m# 'thermal': pybamm.thermal.Lumped(parzameters),\u001b[39;00m\n\u001b[0;32m      9\u001b[0m     \u001b[39m'\u001b[39m\u001b[39mventing\u001b[39m\u001b[39m'\u001b[39m: pybamm\u001b[39m.\u001b[39mventing\u001b[39m.\u001b[39mPouchVenting(parameters), \n\u001b[0;32m     10\u001b[0m     \u001b[39m'\u001b[39m\u001b[39mDecomposition\u001b[39m\u001b[39m'\u001b[39m: pybamm\u001b[39m.\u001b[39mdecomposition\u001b[39m.\u001b[39mSeiDecomposition(parameters),\n\u001b[0;32m     11\u001b[0m     \u001b[39m\"\u001b[39m\u001b[39mexternal submodels\u001b[39m\u001b[39m\"\u001b[39m: [pybamm\u001b[39m.\u001b[39mthermal\u001b[39m.\u001b[39mLumped(parameters)],\n\u001b[0;32m     12\u001b[0m }\n\u001b[1;32m---> 13\u001b[0m model\u001b[39m.\u001b[39;49mbuild_model()\n",
      "File \u001b[1;32mc:\\Users\\Vivian\\Dropbox (University of Michigan)\\from_box\\Research\\PyBaMM\\PyBaMM\\pybamm\\models\\base_model.py:561\u001b[0m, in \u001b[0;36mBaseModel.build_model\u001b[1;34m(self)\u001b[0m\n\u001b[0;32m    560\u001b[0m \u001b[39mdef\u001b[39;00m \u001b[39mbuild_model\u001b[39m(\u001b[39mself\u001b[39m):\n\u001b[1;32m--> 561\u001b[0m     \u001b[39mself\u001b[39;49m\u001b[39m.\u001b[39;49m_build_model()\n\u001b[0;32m    562\u001b[0m     \u001b[39mself\u001b[39m\u001b[39m.\u001b[39m_built \u001b[39m=\u001b[39m \u001b[39mTrue\u001b[39;00m\n\u001b[0;32m    563\u001b[0m     pybamm\u001b[39m.\u001b[39mlogger\u001b[39m.\u001b[39minfo(\u001b[39m\"\u001b[39m\u001b[39mFinish building \u001b[39m\u001b[39m{}\u001b[39;00m\u001b[39m\"\u001b[39m\u001b[39m.\u001b[39mformat(\u001b[39mself\u001b[39m\u001b[39m.\u001b[39mname))\n",
      "File \u001b[1;32mc:\\Users\\Vivian\\Dropbox (University of Michigan)\\from_box\\Research\\PyBaMM\\PyBaMM\\pybamm\\models\\base_model.py:576\u001b[0m, in \u001b[0;36mBaseModel._build_model\u001b[1;34m(self)\u001b[0m\n\u001b[0;32m    573\u001b[0m pybamm\u001b[39m.\u001b[39mlogger\u001b[39m.\u001b[39minfo(\u001b[39m\"\u001b[39m\u001b[39mStart building \u001b[39m\u001b[39m{}\u001b[39;00m\u001b[39m\"\u001b[39m\u001b[39m.\u001b[39mformat(\u001b[39mself\u001b[39m\u001b[39m.\u001b[39mname))\n\u001b[0;32m    575\u001b[0m \u001b[39mif\u001b[39;00m \u001b[39mself\u001b[39m\u001b[39m.\u001b[39m_built_fundamental_and_external \u001b[39mis\u001b[39;00m \u001b[39mFalse\u001b[39;00m:\n\u001b[1;32m--> 576\u001b[0m     \u001b[39mself\u001b[39;49m\u001b[39m.\u001b[39;49mbuild_fundamental_and_external()\n\u001b[0;32m    578\u001b[0m \u001b[39mself\u001b[39m\u001b[39m.\u001b[39mbuild_coupled_variables()\n\u001b[0;32m    580\u001b[0m \u001b[39mself\u001b[39m\u001b[39m.\u001b[39mbuild_model_equations()\n",
      "File \u001b[1;32mc:\\Users\\Vivian\\Dropbox (University of Michigan)\\from_box\\Research\\PyBaMM\\PyBaMM\\pybamm\\models\\base_model.py:460\u001b[0m, in \u001b[0;36mBaseModel.build_fundamental_and_external\u001b[1;34m(self)\u001b[0m\n\u001b[0;32m    454\u001b[0m \u001b[39mfor\u001b[39;00m submodel_name, submodel \u001b[39min\u001b[39;00m \u001b[39mself\u001b[39m\u001b[39m.\u001b[39msubmodels\u001b[39m.\u001b[39mitems():\n\u001b[0;32m    455\u001b[0m     pybamm\u001b[39m.\u001b[39mlogger\u001b[39m.\u001b[39mdebug(\n\u001b[0;32m    456\u001b[0m         \u001b[39m\"\u001b[39m\u001b[39mGetting fundamental variables for \u001b[39m\u001b[39m{}\u001b[39;00m\u001b[39m submodel (\u001b[39m\u001b[39m{}\u001b[39;00m\u001b[39m)\u001b[39m\u001b[39m\"\u001b[39m\u001b[39m.\u001b[39mformat(\n\u001b[0;32m    457\u001b[0m             submodel_name, \u001b[39mself\u001b[39m\u001b[39m.\u001b[39mname\n\u001b[0;32m    458\u001b[0m         )\n\u001b[0;32m    459\u001b[0m     )\n\u001b[1;32m--> 460\u001b[0m     \u001b[39mself\u001b[39m\u001b[39m.\u001b[39mvariables\u001b[39m.\u001b[39mupdate(submodel\u001b[39m.\u001b[39;49mget_fundamental_variables())\n\u001b[0;32m    462\u001b[0m \u001b[39m# Set the submodels that are external\u001b[39;00m\n\u001b[0;32m    463\u001b[0m \u001b[39mfor\u001b[39;00m sub \u001b[39min\u001b[39;00m \u001b[39mself\u001b[39m\u001b[39m.\u001b[39moptions[\u001b[39m\"\u001b[39m\u001b[39mexternal submodels\u001b[39m\u001b[39m\"\u001b[39m]:\n",
      "\u001b[1;31mAttributeError\u001b[0m: 'list' object has no attribute 'get_fundamental_variables'"
     ]
    }
   ],
   "source": [
    "# model = pybamm.()\n",
    "chemistry = pybamm.parameter_sets.Tran2023\n",
    "param = pybamm.ParameterValues(chemistry = chemistry)\n",
    "parameters = pybamm.LithiumIonParameters()\n",
    "\n",
    "model = pybamm.BaseModel(options)\n",
    "model.submodels = {\n",
    "    # 'thermal': pybamm.thermal.Lumped(parzameters),\n",
    "    'venting': pybamm.venting.PouchVenting(parameters), \n",
    "    'Decomposition': pybamm.decomposition.SeiDecomposition(parameters),\n",
    "    \"external submodels\": [pybamm.thermal.Lumped(parameters)],\n",
    "}\n",
    "model.build_model()"
   ]
  },
  {
   "cell_type": "code",
   "execution_count": 47,
   "metadata": {},
   "outputs": [
    {
     "ename": "KeyError",
     "evalue": "'current collector'",
     "output_type": "error",
     "traceback": [
      "\u001b[1;31m---------------------------------------------------------------------------\u001b[0m",
      "\u001b[1;31mKeyError\u001b[0m                                  Traceback (most recent call last)",
      "File \u001b[1;32mc:\\Users\\Vivian\\Dropbox (University of Michigan)\\from_box\\Research\\PyBaMM\\PyBaMM\\pybamm\\discretisations\\discretisation.py:818\u001b[0m, in \u001b[0;36mDiscretisation.process_symbol\u001b[1;34m(self, symbol)\u001b[0m\n\u001b[0;32m    817\u001b[0m \u001b[39mtry\u001b[39;00m:\n\u001b[1;32m--> 818\u001b[0m     \u001b[39mreturn\u001b[39;00m \u001b[39mself\u001b[39;49m\u001b[39m.\u001b[39;49m_discretised_symbols[symbol]\n\u001b[0;32m    819\u001b[0m \u001b[39mexcept\u001b[39;00m \u001b[39mKeyError\u001b[39;00m:\n",
      "\u001b[1;31mKeyError\u001b[0m: PrimaryBroadcast(0x64814785831b1bf9, broadcast, children=['Volume-averaged cell temperature'], domains={'primary': ['current collector']})",
      "\nDuring handling of the above exception, another exception occurred:\n",
      "\u001b[1;31mKeyError\u001b[0m                                  Traceback (most recent call last)",
      "Cell \u001b[1;32mIn[47], line 19\u001b[0m\n\u001b[0;32m     15\u001b[0m     T_av \u001b[39m=\u001b[39m (T_av_dim(t_eval[i]) \u001b[39m-\u001b[39m T_ref) \u001b[39m/\u001b[39m Delta_T\n\u001b[0;32m     16\u001b[0m     external_variables \u001b[39m=\u001b[39m {\n\u001b[0;32m     17\u001b[0m         \u001b[39m\"\u001b[39m\u001b[39mX-averaged negative electrode temperature\u001b[39m\u001b[39m\"\u001b[39m: T_av, \n\u001b[0;32m     18\u001b[0m         }\n\u001b[1;32m---> 19\u001b[0m     solution \u001b[39m=\u001b[39m sim\u001b[39m.\u001b[39;49mstep(dt, external_variables\u001b[39m=\u001b[39;49mexternal_variables)\n\u001b[0;32m     21\u001b[0m output_variables \u001b[39m=\u001b[39m[\n\u001b[0;32m     22\u001b[0m     \u001b[39m\"\u001b[39m\u001b[39mX-averaged negative electrode temperature\u001b[39m\u001b[39m\"\u001b[39m,\n\u001b[0;32m     23\u001b[0m     \u001b[39m\"\u001b[39m\u001b[39mFraction of Li in SEI\u001b[39m\u001b[39m\"\u001b[39m,\n\u001b[1;32m   (...)\u001b[0m\n\u001b[0;32m     28\u001b[0m \n\u001b[0;32m     29\u001b[0m ]\n\u001b[0;32m     31\u001b[0m sim\u001b[39m.\u001b[39mplot(output_variables)\n",
      "File \u001b[1;32mc:\\Users\\Vivian\\Dropbox (University of Michigan)\\from_box\\Research\\PyBaMM\\PyBaMM\\pybamm\\simulation.py:989\u001b[0m, in \u001b[0;36mSimulation.step\u001b[1;34m(self, dt, solver, npts, save, starting_solution, **kwargs)\u001b[0m\n\u001b[0;32m    966\u001b[0m \u001b[39m\u001b[39m\u001b[39m\"\"\"\u001b[39;00m\n\u001b[0;32m    967\u001b[0m \u001b[39mA method to step the model forward one timestep. This method will\u001b[39;00m\n\u001b[0;32m    968\u001b[0m \u001b[39mautomatically build and set the model parameters if not already done so.\u001b[39;00m\n\u001b[1;32m   (...)\u001b[0m\n\u001b[0;32m    986\u001b[0m \u001b[39m    See :meth:`pybamm.BaseSolver.step`.\u001b[39;00m\n\u001b[0;32m    987\u001b[0m \u001b[39m\"\"\"\u001b[39;00m\n\u001b[0;32m    988\u001b[0m \u001b[39mif\u001b[39;00m \u001b[39mself\u001b[39m\u001b[39m.\u001b[39moperating_mode \u001b[39min\u001b[39;00m [\u001b[39m\"\u001b[39m\u001b[39mwithout experiment\u001b[39m\u001b[39m\"\u001b[39m, \u001b[39m\"\u001b[39m\u001b[39mdrive cycle\u001b[39m\u001b[39m\"\u001b[39m]:\n\u001b[1;32m--> 989\u001b[0m     \u001b[39mself\u001b[39;49m\u001b[39m.\u001b[39;49mbuild()\n\u001b[0;32m    991\u001b[0m \u001b[39mif\u001b[39;00m solver \u001b[39mis\u001b[39;00m \u001b[39mNone\u001b[39;00m:\n\u001b[0;32m    992\u001b[0m     solver \u001b[39m=\u001b[39m \u001b[39mself\u001b[39m\u001b[39m.\u001b[39msolver\n",
      "File \u001b[1;32mc:\\Users\\Vivian\\Dropbox (University of Michigan)\\from_box\\Research\\PyBaMM\\PyBaMM\\pybamm\\simulation.py:493\u001b[0m, in \u001b[0;36mSimulation.build\u001b[1;34m(self, check_model)\u001b[0m\n\u001b[0;32m    491\u001b[0m \u001b[39mself\u001b[39m\u001b[39m.\u001b[39m_mesh \u001b[39m=\u001b[39m pybamm\u001b[39m.\u001b[39mMesh(\u001b[39mself\u001b[39m\u001b[39m.\u001b[39m_geometry, \u001b[39mself\u001b[39m\u001b[39m.\u001b[39m_submesh_types, \u001b[39mself\u001b[39m\u001b[39m.\u001b[39m_var_pts)\n\u001b[0;32m    492\u001b[0m \u001b[39mself\u001b[39m\u001b[39m.\u001b[39m_disc \u001b[39m=\u001b[39m pybamm\u001b[39m.\u001b[39mDiscretisation(\u001b[39mself\u001b[39m\u001b[39m.\u001b[39m_mesh, \u001b[39mself\u001b[39m\u001b[39m.\u001b[39m_spatial_methods)\n\u001b[1;32m--> 493\u001b[0m \u001b[39mself\u001b[39m\u001b[39m.\u001b[39m_built_model \u001b[39m=\u001b[39m \u001b[39mself\u001b[39;49m\u001b[39m.\u001b[39;49m_disc\u001b[39m.\u001b[39;49mprocess_model(\n\u001b[0;32m    494\u001b[0m     \u001b[39mself\u001b[39;49m\u001b[39m.\u001b[39;49m_model_with_set_params, inplace\u001b[39m=\u001b[39;49m\u001b[39mFalse\u001b[39;49;00m, check_model\u001b[39m=\u001b[39;49mcheck_model\n\u001b[0;32m    495\u001b[0m )\n",
      "File \u001b[1;32mc:\\Users\\Vivian\\Dropbox (University of Michigan)\\from_box\\Research\\PyBaMM\\PyBaMM\\pybamm\\discretisations\\discretisation.py:204\u001b[0m, in \u001b[0;36mDiscretisation.process_model\u001b[1;34m(self, model, inplace, check_model)\u001b[0m\n\u001b[0;32m    200\u001b[0m \u001b[39m# Discretise variables (applying boundary conditions)\u001b[39;00m\n\u001b[0;32m    201\u001b[0m \u001b[39m# Note that we **do not** discretise the keys of model.rhs,\u001b[39;00m\n\u001b[0;32m    202\u001b[0m \u001b[39m# model.initial_conditions and model.boundary_conditions\u001b[39;00m\n\u001b[0;32m    203\u001b[0m pybamm\u001b[39m.\u001b[39mlogger\u001b[39m.\u001b[39mverbose(\u001b[39m\"\u001b[39m\u001b[39mDiscretise variables for \u001b[39m\u001b[39m{}\u001b[39;00m\u001b[39m\"\u001b[39m\u001b[39m.\u001b[39mformat(model\u001b[39m.\u001b[39mname))\n\u001b[1;32m--> 204\u001b[0m model_disc\u001b[39m.\u001b[39mvariables \u001b[39m=\u001b[39m \u001b[39mself\u001b[39;49m\u001b[39m.\u001b[39;49mprocess_dict(model\u001b[39m.\u001b[39;49mvariables)\n\u001b[0;32m    206\u001b[0m \u001b[39m# Process parabolic and elliptic equations\u001b[39;00m\n\u001b[0;32m    207\u001b[0m pybamm\u001b[39m.\u001b[39mlogger\u001b[39m.\u001b[39mverbose(\u001b[39m\"\u001b[39m\u001b[39mDiscretise model equations for \u001b[39m\u001b[39m{}\u001b[39;00m\u001b[39m\"\u001b[39m\u001b[39m.\u001b[39mformat(model\u001b[39m.\u001b[39mname))\n",
      "File \u001b[1;32mc:\\Users\\Vivian\\Dropbox (University of Michigan)\\from_box\\Research\\PyBaMM\\PyBaMM\\pybamm\\discretisations\\discretisation.py:796\u001b[0m, in \u001b[0;36mDiscretisation.process_dict\u001b[1;34m(self, var_eqn_dict)\u001b[0m\n\u001b[0;32m    792\u001b[0m         eqn \u001b[39m=\u001b[39m pybamm\u001b[39m.\u001b[39mFullBroadcast(eqn, broadcast_domains\u001b[39m=\u001b[39meqn_key\u001b[39m.\u001b[39mdomains)\n\u001b[0;32m    794\u001b[0m     pybamm\u001b[39m.\u001b[39mlogger\u001b[39m.\u001b[39mdebug(\u001b[39m\"\u001b[39m\u001b[39mDiscretise \u001b[39m\u001b[39m{!r}\u001b[39;00m\u001b[39m\"\u001b[39m\u001b[39m.\u001b[39mformat(eqn_key))\n\u001b[1;32m--> 796\u001b[0m     processed_eqn \u001b[39m=\u001b[39m \u001b[39mself\u001b[39;49m\u001b[39m.\u001b[39;49mprocess_symbol(eqn)\n\u001b[0;32m    798\u001b[0m     new_var_eqn_dict[eqn_key] \u001b[39m=\u001b[39m processed_eqn\n\u001b[0;32m    800\u001b[0m \u001b[39mreturn\u001b[39;00m new_var_eqn_dict\n",
      "File \u001b[1;32mc:\\Users\\Vivian\\Dropbox (University of Michigan)\\from_box\\Research\\PyBaMM\\PyBaMM\\pybamm\\discretisations\\discretisation.py:820\u001b[0m, in \u001b[0;36mDiscretisation.process_symbol\u001b[1;34m(self, symbol)\u001b[0m\n\u001b[0;32m    818\u001b[0m     \u001b[39mreturn\u001b[39;00m \u001b[39mself\u001b[39m\u001b[39m.\u001b[39m_discretised_symbols[symbol]\n\u001b[0;32m    819\u001b[0m \u001b[39mexcept\u001b[39;00m \u001b[39mKeyError\u001b[39;00m:\n\u001b[1;32m--> 820\u001b[0m     discretised_symbol \u001b[39m=\u001b[39m \u001b[39mself\u001b[39;49m\u001b[39m.\u001b[39;49m_process_symbol(symbol)\n\u001b[0;32m    821\u001b[0m     \u001b[39mself\u001b[39m\u001b[39m.\u001b[39m_discretised_symbols[symbol] \u001b[39m=\u001b[39m discretised_symbol\n\u001b[0;32m    822\u001b[0m     discretised_symbol\u001b[39m.\u001b[39mtest_shape()\n",
      "File \u001b[1;32mc:\\Users\\Vivian\\Dropbox (University of Michigan)\\from_box\\Research\\PyBaMM\\PyBaMM\\pybamm\\discretisations\\discretisation.py:842\u001b[0m, in \u001b[0;36mDiscretisation._process_symbol\u001b[1;34m(self, symbol)\u001b[0m\n\u001b[0;32m    839\u001b[0m \u001b[39m\u001b[39m\u001b[39m\"\"\"See :meth:`Discretisation.process_symbol()`.\"\"\"\u001b[39;00m\n\u001b[0;32m    841\u001b[0m \u001b[39mif\u001b[39;00m symbol\u001b[39m.\u001b[39mdomain \u001b[39m!=\u001b[39m []:\n\u001b[1;32m--> 842\u001b[0m     spatial_method \u001b[39m=\u001b[39m \u001b[39mself\u001b[39;49m\u001b[39m.\u001b[39;49mspatial_methods[symbol\u001b[39m.\u001b[39;49mdomain[\u001b[39m0\u001b[39;49m]]\n\u001b[0;32m    843\u001b[0m     \u001b[39m# If boundary conditions are provided, need to check for BCs on tabs\u001b[39;00m\n\u001b[0;32m    844\u001b[0m     \u001b[39mif\u001b[39;00m \u001b[39mself\u001b[39m\u001b[39m.\u001b[39mbcs:\n",
      "\u001b[1;31mKeyError\u001b[0m: 'current collector'"
     ]
    }
   ],
   "source": [
    "# set up sim\n",
    "t_end = 300\n",
    "t_eval = np.linspace(0,t_end,t_end*10)\n",
    "\n",
    "\n",
    "solver = pybamm.CasadiSolver()\n",
    "sim = pybamm.Simulation(model, parameter_values=param)\n",
    "\n",
    "# define temperature change with time\n",
    "T_ref = param.evaluate(parameters.T_ref)\n",
    "Delta_T = param.evaluate(parameters.Delta_T)\n",
    "T_av_dim = interp1d(temperature_profile.t, temperature_profile.T, kind = 'linear')\n",
    "for i in np.arange(1, len(t_eval) - 1): \n",
    "    dt = t_eval[i + 1] - t_eval[i]\n",
    "    T_av = (T_av_dim(t_eval[i]) - T_ref) / Delta_T\n",
    "    external_variables = {\n",
    "        \"X-averaged negative electrode temperature\": T_av, \n",
    "        }\n",
    "    solution = sim.step(dt, external_variables=external_variables)\n",
    "\n",
    "output_variables =[\n",
    "    \"X-averaged negative electrode temperature\",\n",
    "    \"Fraction of Li in SEI\",\n",
    "    \"Electrolyte gas saturation pressure [kPa]\"\n",
    "    \"CO2 gas pressure [kPa]\"\n",
    "    \"Cell expansion stress [kPa]\"\n",
    "    \"Headspace volume [m3]\"\n",
    "\n",
    "]\n",
    "\n",
    "sim.plot(output_variables)"
   ]
  },
  {
   "cell_type": "code",
   "execution_count": null,
   "metadata": {},
   "outputs": [],
   "source": []
  }
 ],
 "metadata": {
  "kernelspec": {
   "display_name": "venv",
   "language": "python",
   "name": "python3"
  },
  "language_info": {
   "codemirror_mode": {
    "name": "ipython",
    "version": 3
   },
   "file_extension": ".py",
   "mimetype": "text/x-python",
   "name": "python",
   "nbconvert_exporter": "python",
   "pygments_lexer": "ipython3",
   "version": "3.9.13"
  },
  "orig_nbformat": 4
 },
 "nbformat": 4,
 "nbformat_minor": 2
}
