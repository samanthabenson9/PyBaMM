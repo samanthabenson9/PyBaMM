{
 "cells": [
  {
   "cell_type": "markdown",
   "metadata": {},
   "source": [
    "# Setup and test algebraic eqn solver"
   ]
  },
  {
   "cell_type": "code",
   "execution_count": 3,
   "metadata": {},
   "outputs": [
    {
     "name": "stdout",
     "output_type": "stream",
     "text": [
      "c:\\Users\\Vivian\\Dropbox (University of Michigan)\\from_box\\Research\\PyBaMM\\PyBaMM\\pybamm\n"
     ]
    }
   ],
   "source": [
    "import sys\n",
    "import os\n",
    "import numpy as np\n",
    "import pandas as pd\n",
    "import os\n",
    "from scipy.interpolate import interp1d\n",
    "from scipy import constants\n",
    "\n",
    "import matplotlib.pyplot as plt\n",
    "os.chdir(sys.path[0] + '\\..') # change our working directory to the root of the pybamm folder\n",
    "import pybamm\n",
    "print(pybamm.__path__[0])\n",
    "%matplotlib widget"
   ]
  },
  {
   "cell_type": "code",
   "execution_count": 4,
   "metadata": {},
   "outputs": [],
   "source": [
    "\n",
    "class PouchVenting(pybamm.BaseSubModel):\n",
    "    \"\"\"Pouch cell venting accounting for CO2 gas generation from SEI decomposition \n",
    "    and electrolyte saturation pressure.\n",
    "\n",
    "    Parameters\n",
    "    ----------\n",
    "    param : parameter class\n",
    "        The parameters to use for this submodel\n",
    "    reactions : dict, optional\n",
    "        Dictionary of reaction terms\n",
    "\n",
    "    **Extends:** :class:`pybamm.BaseSubModel`\n",
    "    \"\"\"\n",
    "\n",
    "    def __init__(self, param):\n",
    "        super().__init__(param)\n",
    "\n",
    "    def get_fundamental_variables(self):\n",
    "        param = self.param\n",
    "        delta_sigma = pybamm.Variable(\"Cell expansion stress [kPa]\")\n",
    "        T_vol_av = pybamm.standard_variables.T_vol_av\n",
    "        # T_x_av = pybamm.PrimaryBroadcast(T_vol_av, [\"current collector\"])\n",
    "        # T_n = pybamm.PrimaryBroadcast(T_x_av, \"negative electrode\")\n",
    "        variables = {\n",
    "            \"Cell expansion stress [kPa]\": delta_sigma,\n",
    "            \"Volume-averaged cell temperature\": T_vol_av,\n",
    "            # 'Volume-averaged cell temperature [K]': param.therm.Delta_T * T_vol_av\n",
    "            # + param.T_ref,\n",
    "        }\n",
    "        return variables\n",
    "\n",
    "    def get_coupled_variables(self, variables):\n",
    "        print(1)\n",
    "\n",
    "        param = self.param\n",
    "        m_an = param.therm.m_an\n",
    "        x_sei_0 = param.therm.x_sei_0\n",
    "        M_C6 = param.therm.M_an\n",
    "        V_head_0 = param.therm.V_head_0\n",
    "        A_surf = param.therm.A_surf\n",
    "        L = param.therm.L_poron\n",
    "        E = param.therm.E_poron\n",
    "        alpha_cell = param.therm.alpha_cell\n",
    "        P_crit = param.therm.P_crit\n",
    "        sigma_0 = param.therm.sigma_0\n",
    "        P_atm = param.therm.P_atm\n",
    "\n",
    "        x_sei = param.therm.x_sei_0 #variables[\"Fraction of Li in SEI\"]\n",
    "        delta_sigma = variables[\"Cell expansion stress [kPa]\"]\n",
    "        T = variables['Volume-averaged cell temperature']\n",
    "        T_dimensional = param.therm.Delta_T * T + param.T_ref\n",
    "        delta_T = param.therm.Delta_T * T\n",
    "        print(2)\n",
    "\n",
    "        delta_d = L/E*delta_sigma\n",
    "        V_head = V_head_0 + A_surf*(delta_d-alpha_cell*delta_T)   \n",
    "        P_sat = param.therm.P_sat(T) #dimensionless\n",
    "        n_CO2 = m_an*(x_sei_0 - x_sei)/(2*M_C6)\n",
    "        P_CO2 = (n_CO2*constants.R*T/V_head/1000)/P_crit #kPa\n",
    "        P_total = P_CO2 + P_sat \n",
    "\n",
    "        delta_sigma_gas = P_total-sigma_0-P_atm\n",
    "        delta_sigma_themal_expansion = E*alpha_cell*delta_T/L\n",
    "        print(3)\n",
    "\n",
    "        Q_ohm = pybamm.Scalar(15)\n",
    "        Q_scale = param.i_typ * param.potential_scale / param.L_x\n",
    "        variables.update({\n",
    "            \"Electrolyte gas saturation pressure\": P_sat/P_crit,\n",
    "            \"CO2 gas pressure\": P_CO2/P_crit,\n",
    "            \"Total gas pressure [kPa]\": P_total/P_crit,\n",
    "            \"Electrolyte gas saturation pressure [kPa]\": P_sat,\n",
    "            \"CO2 gas pressure [kPa]\": P_CO2,\n",
    "            \"Total gas pressure [kPa]\": P_total,\n",
    "            \"Headspace volume [m3]\": V_head,\n",
    "            \"Volume-averaged total heating\": Q_ohm,\n",
    "        })\n",
    "\n",
    "        return variables\n",
    "\n",
    "\n",
    "    def set_rhs(self, variables):\n",
    "        print(4)\n",
    "\n",
    "        param = self.param\n",
    "        T_vol_av = variables['Volume-averaged cell temperature']\n",
    "        Q_vol_av = variables[\"Volume-averaged total heating\"]\n",
    "        T_amb = param.T_amb(pybamm.t * param.timescale)\n",
    "        cell_surface_area = param.a_cooling\n",
    "        cell_volume =  param.v_cell\n",
    "        total_cooling_coefficient = (\n",
    "            - param.h_total\n",
    "            * cell_surface_area\n",
    "            / cell_volume\n",
    "            / (param.delta ** 2)\n",
    "                )\n",
    "        print(5)\n",
    "\n",
    "        self.rhs = {\n",
    "            T_vol_av: (\n",
    "                 param.B * Q_vol_av + total_cooling_coefficient * (T_vol_av - T_amb)\n",
    "            )\n",
    "            / ( param.C_th * param.rho(T_vol_av)),\n",
    "        }\n",
    "\n",
    "    def set_algebraic(self, variables):\n",
    "        print(6)\n",
    "\n",
    "        param = self.param\n",
    "        P_crit = param.therm.P_crit\n",
    "        L = param.therm.L_poron\n",
    "        E = param.therm.E_poron\n",
    "        alpha_cell = param.therm.alpha_cell\n",
    "        P_atm = param.therm.P_atm\n",
    "        sigma_0 = param.therm.sigma_0\n",
    "        print(7)\n",
    "\n",
    "        T = variables['Volume-averaged cell temperature']\n",
    "        delta_T = param.therm.Delta_T * T\n",
    "        delta_sigma = variables[\"Cell expansion stress [kPa]\"]\n",
    "        P_total = variables[\"Total gas pressure [kPa]\"]        \n",
    "        self.algebraic = {\n",
    "            delta_sigma: delta_sigma - pybamm.maximum(P_total-sigma_0-P_atm, E*alpha_cell*delta_T/L)\n",
    "            } #pybamm.maximum(P_total-sigma_0-P_atm, E*alpha_cell*delta_T/L)\n",
    "\n",
    "    def set_initial_conditions(self, variables):\n",
    "        # param = self.param\n",
    "        # sigma_0 = param.therm.sigma_0\n",
    "        delta_sigma = variables[\"Cell expansion stress [kPa]\"]\n",
    "        T_vol_av = variables[\"Volume-averaged cell temperature\"]\n",
    "        self.initial_conditions = {\n",
    "            delta_sigma: pybamm.Scalar(0), \n",
    "            T_vol_av: self.param.T_init,\n",
    "\n",
    "        }"
   ]
  },
  {
   "cell_type": "code",
   "execution_count": 5,
   "metadata": {},
   "outputs": [],
   "source": [
    "chemistry = pybamm.parameter_sets.Tran2023\n",
    "parameters = pybamm.ParameterValues(chemistry = chemistry)\n",
    "param = pybamm.LithiumIonParameters()"
   ]
  },
  {
   "cell_type": "code",
   "execution_count": 6,
   "metadata": {},
   "outputs": [
    {
     "name": "stdout",
     "output_type": "stream",
     "text": [
      "1\n",
      "2\n",
      "3\n",
      "4\n",
      "5\n",
      "6\n",
      "7\n"
     ]
    },
    {
     "data": {
      "text/plain": [
       "['Cell expansion stress [kPa]',\n",
       " 'Volume-averaged cell temperature',\n",
       " 'Electrolyte gas saturation pressure',\n",
       " 'CO2 gas pressure',\n",
       " 'Total gas pressure [kPa]',\n",
       " 'Electrolyte gas saturation pressure [kPa]',\n",
       " 'CO2 gas pressure [kPa]',\n",
       " 'Headspace volume [m3]',\n",
       " 'Volume-averaged total heating']"
      ]
     },
     "metadata": {},
     "output_type": "display_data"
    },
    {
     "ename": "NotImplementedError",
     "evalue": "method self.evaluate() not implemented for symbol Typical current [A] of type <class 'pybamm.expression_tree.parameter.Parameter'>",
     "output_type": "error",
     "traceback": [
      "\u001b[1;31m---------------------------------------------------------------------------\u001b[0m",
      "\u001b[1;31mAttributeError\u001b[0m                            Traceback (most recent call last)",
      "File \u001b[1;32mc:\\Users\\Vivian\\Dropbox (University of Michigan)\\from_box\\Research\\PyBaMM\\PyBaMM\\pybamm\\expression_tree\\symbol.py:915\u001b[0m, in \u001b[0;36mSymbol.size\u001b[1;34m(self)\u001b[0m\n\u001b[0;32m    914\u001b[0m \u001b[39mtry\u001b[39;00m:\n\u001b[1;32m--> 915\u001b[0m     \u001b[39mreturn\u001b[39;00m \u001b[39mself\u001b[39;49m\u001b[39m.\u001b[39;49m_saved_size\n\u001b[0;32m    916\u001b[0m \u001b[39mexcept\u001b[39;00m \u001b[39mAttributeError\u001b[39;00m:\n",
      "\u001b[1;31mAttributeError\u001b[0m: 'NumpyConcatenation' object has no attribute '_saved_size'",
      "\nDuring handling of the above exception, another exception occurred:\n",
      "\u001b[1;31mAttributeError\u001b[0m                            Traceback (most recent call last)",
      "File \u001b[1;32mc:\\Users\\Vivian\\Dropbox (University of Michigan)\\from_box\\Research\\PyBaMM\\PyBaMM\\pybamm\\expression_tree\\symbol.py:926\u001b[0m, in \u001b[0;36mSymbol.shape\u001b[1;34m(self)\u001b[0m\n\u001b[0;32m    925\u001b[0m \u001b[39mtry\u001b[39;00m:\n\u001b[1;32m--> 926\u001b[0m     \u001b[39mreturn\u001b[39;00m \u001b[39mself\u001b[39;49m\u001b[39m.\u001b[39;49m_saved_shape\n\u001b[0;32m    927\u001b[0m \u001b[39mexcept\u001b[39;00m \u001b[39mAttributeError\u001b[39;00m:\n\u001b[0;32m    928\u001b[0m     \u001b[39m# Default behaviour is to try to evaluate the object directly\u001b[39;00m\n\u001b[0;32m    929\u001b[0m     \u001b[39m# Try with some large y, to avoid having to unpack (slow)\u001b[39;00m\n",
      "\u001b[1;31mAttributeError\u001b[0m: 'NumpyConcatenation' object has no attribute '_saved_shape'",
      "\nDuring handling of the above exception, another exception occurred:\n",
      "\u001b[1;31mNotImplementedError\u001b[0m                       Traceback (most recent call last)",
      "Cell \u001b[1;32mIn[6], line 14\u001b[0m\n\u001b[0;32m     12\u001b[0m solver \u001b[39m=\u001b[39m pybamm\u001b[39m.\u001b[39mCasadiSolver()\n\u001b[0;32m     13\u001b[0m \u001b[39m# solution = solver.solve(model, t_eval, external_variables={'X-averaged negative electrode temperature':50+273.15})\u001b[39;00m\n\u001b[1;32m---> 14\u001b[0m solution \u001b[39m=\u001b[39m solver\u001b[39m.\u001b[39;49msolve(model, t_eval)\n",
      "File \u001b[1;32mc:\\Users\\Vivian\\Dropbox (University of Michigan)\\from_box\\Research\\PyBaMM\\PyBaMM\\pybamm\\solvers\\base_solver.py:791\u001b[0m, in \u001b[0;36mBaseSolver.solve\u001b[1;34m(self, model, t_eval, external_variables, inputs, initial_conditions, nproc, calculate_sensitivities)\u001b[0m\n\u001b[0;32m    784\u001b[0m timer \u001b[39m=\u001b[39m pybamm\u001b[39m.\u001b[39mTimer()\n\u001b[0;32m    785\u001b[0m \u001b[39mif\u001b[39;00m model \u001b[39mnot\u001b[39;00m \u001b[39min\u001b[39;00m \u001b[39mself\u001b[39m\u001b[39m.\u001b[39mmodels_set_up:\n\u001b[0;32m    786\u001b[0m     \u001b[39m# It is assumed that when len(inputs_list) > 1, model set\u001b[39;00m\n\u001b[0;32m    787\u001b[0m     \u001b[39m# up (initial condition, time-scale and length-scale) does\u001b[39;00m\n\u001b[0;32m    788\u001b[0m     \u001b[39m# not depend on input parameters. Thefore only `ext_and_inputs[0]`\u001b[39;00m\n\u001b[0;32m    789\u001b[0m     \u001b[39m# is passed to `set_up`.\u001b[39;00m\n\u001b[0;32m    790\u001b[0m     \u001b[39m# See https://github.com/pybamm-team/PyBaMM/pull/1261\u001b[39;00m\n\u001b[1;32m--> 791\u001b[0m     \u001b[39mself\u001b[39;49m\u001b[39m.\u001b[39;49mset_up(model, ext_and_inputs_list[\u001b[39m0\u001b[39;49m], t_eval)\n\u001b[0;32m    792\u001b[0m     \u001b[39mself\u001b[39m\u001b[39m.\u001b[39mmodels_set_up\u001b[39m.\u001b[39mupdate(\n\u001b[0;32m    793\u001b[0m         {model: {\u001b[39m\"\u001b[39m\u001b[39minitial conditions\u001b[39m\u001b[39m\"\u001b[39m: model\u001b[39m.\u001b[39mconcatenated_initial_conditions}}\n\u001b[0;32m    794\u001b[0m     )\n\u001b[0;32m    795\u001b[0m \u001b[39melse\u001b[39;00m:\n",
      "File \u001b[1;32mc:\\Users\\Vivian\\Dropbox (University of Michigan)\\from_box\\Research\\PyBaMM\\PyBaMM\\pybamm\\solvers\\base_solver.py:112\u001b[0m, in \u001b[0;36mBaseSolver.set_up\u001b[1;34m(self, model, inputs, t_eval, ics_only)\u001b[0m\n\u001b[0;32m    109\u001b[0m \u001b[39melse\u001b[39;00m:\n\u001b[0;32m    110\u001b[0m     pybamm\u001b[39m.\u001b[39mlogger\u001b[39m.\u001b[39minfo(\u001b[39m\"\u001b[39m\u001b[39mStart solver set-up\u001b[39m\u001b[39m\"\u001b[39m)\n\u001b[1;32m--> 112\u001b[0m \u001b[39mself\u001b[39;49m\u001b[39m.\u001b[39;49m_check_and_prepare_model_inplace(model, inputs, ics_only)\n\u001b[0;32m    114\u001b[0m \u001b[39m# set default calculate sensitivities on model\u001b[39;00m\n\u001b[0;32m    115\u001b[0m \u001b[39mif\u001b[39;00m \u001b[39mnot\u001b[39;00m \u001b[39mhasattr\u001b[39m(model, \u001b[39m\"\u001b[39m\u001b[39mcalculate_sensitivities\u001b[39m\u001b[39m\"\u001b[39m):\n",
      "File \u001b[1;32mc:\\Users\\Vivian\\Dropbox (University of Michigan)\\from_box\\Research\\PyBaMM\\PyBaMM\\pybamm\\solvers\\base_solver.py:264\u001b[0m, in \u001b[0;36mBaseSolver._check_and_prepare_model_inplace\u001b[1;34m(self, model, inputs, ics_only)\u001b[0m\n\u001b[0;32m    262\u001b[0m \u001b[39mtry\u001b[39;00m:\n\u001b[0;32m    263\u001b[0m     disc \u001b[39m=\u001b[39m pybamm\u001b[39m.\u001b[39mDiscretisation()\n\u001b[1;32m--> 264\u001b[0m     disc\u001b[39m.\u001b[39;49mprocess_model(model)\n\u001b[0;32m    265\u001b[0m \u001b[39mexcept\u001b[39;00m pybamm\u001b[39m.\u001b[39mDiscretisationError \u001b[39mas\u001b[39;00m e:\n\u001b[0;32m    266\u001b[0m     \u001b[39mraise\u001b[39;00m pybamm\u001b[39m.\u001b[39mDiscretisationError(\n\u001b[0;32m    267\u001b[0m         \u001b[39m\"\u001b[39m\u001b[39mCannot automatically discretise model, \u001b[39m\u001b[39m\"\u001b[39m\n\u001b[0;32m    268\u001b[0m         \u001b[39m\"\u001b[39m\u001b[39mmodel should be discretised before solving (\u001b[39m\u001b[39m{}\u001b[39;00m\u001b[39m)\u001b[39m\u001b[39m\"\u001b[39m\u001b[39m.\u001b[39mformat(e)\n\u001b[0;32m    269\u001b[0m     )\n",
      "File \u001b[1;32mc:\\Users\\Vivian\\Dropbox (University of Michigan)\\from_box\\Research\\PyBaMM\\PyBaMM\\pybamm\\discretisations\\discretisation.py:213\u001b[0m, in \u001b[0;36mDiscretisation.process_model\u001b[1;34m(self, model, inplace, check_model)\u001b[0m\n\u001b[0;32m    210\u001b[0m model_disc\u001b[39m.\u001b[39malgebraic, model_disc\u001b[39m.\u001b[39mconcatenated_algebraic \u001b[39m=\u001b[39m alg, concat_alg\n\u001b[0;32m    212\u001b[0m \u001b[39m# Save length of rhs and algebraic\u001b[39;00m\n\u001b[1;32m--> 213\u001b[0m model_disc\u001b[39m.\u001b[39mlen_rhs \u001b[39m=\u001b[39m model_disc\u001b[39m.\u001b[39;49mconcatenated_rhs\u001b[39m.\u001b[39;49msize\n\u001b[0;32m    214\u001b[0m model_disc\u001b[39m.\u001b[39mlen_alg \u001b[39m=\u001b[39m model_disc\u001b[39m.\u001b[39mconcatenated_algebraic\u001b[39m.\u001b[39msize\n\u001b[0;32m    215\u001b[0m model_disc\u001b[39m.\u001b[39mlen_rhs_and_alg \u001b[39m=\u001b[39m model_disc\u001b[39m.\u001b[39mlen_rhs \u001b[39m+\u001b[39m model_disc\u001b[39m.\u001b[39mlen_alg\n",
      "File \u001b[1;32mc:\\Users\\Vivian\\Dropbox (University of Michigan)\\from_box\\Research\\PyBaMM\\PyBaMM\\pybamm\\expression_tree\\symbol.py:917\u001b[0m, in \u001b[0;36mSymbol.size\u001b[1;34m(self)\u001b[0m\n\u001b[0;32m    915\u001b[0m     \u001b[39mreturn\u001b[39;00m \u001b[39mself\u001b[39m\u001b[39m.\u001b[39m_saved_size\n\u001b[0;32m    916\u001b[0m \u001b[39mexcept\u001b[39;00m \u001b[39mAttributeError\u001b[39;00m:\n\u001b[1;32m--> 917\u001b[0m     \u001b[39mself\u001b[39m\u001b[39m.\u001b[39m_saved_size \u001b[39m=\u001b[39m np\u001b[39m.\u001b[39mprod(\u001b[39mself\u001b[39;49m\u001b[39m.\u001b[39;49mshape)\n\u001b[0;32m    918\u001b[0m     \u001b[39mreturn\u001b[39;00m \u001b[39mself\u001b[39m\u001b[39m.\u001b[39m_saved_size\n",
      "File \u001b[1;32mc:\\Users\\Vivian\\Dropbox (University of Michigan)\\from_box\\Research\\PyBaMM\\PyBaMM\\pybamm\\expression_tree\\symbol.py:932\u001b[0m, in \u001b[0;36mSymbol.shape\u001b[1;34m(self)\u001b[0m\n\u001b[0;32m    930\u001b[0m \u001b[39mtry\u001b[39;00m:\n\u001b[0;32m    931\u001b[0m     y \u001b[39m=\u001b[39m np\u001b[39m.\u001b[39mnan \u001b[39m*\u001b[39m np\u001b[39m.\u001b[39mones((\u001b[39m1000\u001b[39m, \u001b[39m1\u001b[39m))\n\u001b[1;32m--> 932\u001b[0m     evaluated_self \u001b[39m=\u001b[39m \u001b[39mself\u001b[39;49m\u001b[39m.\u001b[39;49mevaluate(\u001b[39m0\u001b[39;49m, y, y, inputs\u001b[39m=\u001b[39;49m\u001b[39m\"\u001b[39;49m\u001b[39mshape test\u001b[39;49m\u001b[39m\"\u001b[39;49m)\n\u001b[0;32m    933\u001b[0m \u001b[39m# If that fails, fall back to calculating how big y should really be\u001b[39;00m\n\u001b[0;32m    934\u001b[0m \u001b[39mexcept\u001b[39;00m \u001b[39mValueError\u001b[39;00m:\n",
      "File \u001b[1;32mc:\\Users\\Vivian\\Dropbox (University of Michigan)\\from_box\\Research\\PyBaMM\\PyBaMM\\pybamm\\expression_tree\\concatenations.py:106\u001b[0m, in \u001b[0;36mConcatenation.evaluate\u001b[1;34m(self, t, y, y_dot, inputs)\u001b[0m\n\u001b[0;32m    104\u001b[0m children_eval \u001b[39m=\u001b[39m [\u001b[39mNone\u001b[39;00m] \u001b[39m*\u001b[39m \u001b[39mlen\u001b[39m(children)\n\u001b[0;32m    105\u001b[0m \u001b[39mfor\u001b[39;00m idx, child \u001b[39min\u001b[39;00m \u001b[39menumerate\u001b[39m(children):\n\u001b[1;32m--> 106\u001b[0m     children_eval[idx] \u001b[39m=\u001b[39m child\u001b[39m.\u001b[39;49mevaluate(t, y, y_dot, inputs)\n\u001b[0;32m    107\u001b[0m \u001b[39mreturn\u001b[39;00m \u001b[39mself\u001b[39m\u001b[39m.\u001b[39m_concatenation_evaluate(children_eval)\n",
      "File \u001b[1;32mc:\\Users\\Vivian\\Dropbox (University of Michigan)\\from_box\\Research\\PyBaMM\\PyBaMM\\pybamm\\expression_tree\\binary_operators.py:107\u001b[0m, in \u001b[0;36mBinaryOperator.evaluate\u001b[1;34m(self, t, y, y_dot, inputs)\u001b[0m\n\u001b[0;32m    105\u001b[0m \u001b[39mdef\u001b[39;00m \u001b[39mevaluate\u001b[39m(\u001b[39mself\u001b[39m, t\u001b[39m=\u001b[39m\u001b[39mNone\u001b[39;00m, y\u001b[39m=\u001b[39m\u001b[39mNone\u001b[39;00m, y_dot\u001b[39m=\u001b[39m\u001b[39mNone\u001b[39;00m, inputs\u001b[39m=\u001b[39m\u001b[39mNone\u001b[39;00m):\n\u001b[0;32m    106\u001b[0m \u001b[39m    \u001b[39m\u001b[39m\"\"\"See :meth:`pybamm.Symbol.evaluate()`.\"\"\"\u001b[39;00m\n\u001b[1;32m--> 107\u001b[0m     left \u001b[39m=\u001b[39m \u001b[39mself\u001b[39;49m\u001b[39m.\u001b[39;49mleft\u001b[39m.\u001b[39;49mevaluate(t, y, y_dot, inputs)\n\u001b[0;32m    108\u001b[0m     right \u001b[39m=\u001b[39m \u001b[39mself\u001b[39m\u001b[39m.\u001b[39mright\u001b[39m.\u001b[39mevaluate(t, y, y_dot, inputs)\n\u001b[0;32m    109\u001b[0m     \u001b[39mreturn\u001b[39;00m \u001b[39mself\u001b[39m\u001b[39m.\u001b[39m_binary_evaluate(left, right)\n",
      "File \u001b[1;32mc:\\Users\\Vivian\\Dropbox (University of Michigan)\\from_box\\Research\\PyBaMM\\PyBaMM\\pybamm\\expression_tree\\binary_operators.py:107\u001b[0m, in \u001b[0;36mBinaryOperator.evaluate\u001b[1;34m(self, t, y, y_dot, inputs)\u001b[0m\n\u001b[0;32m    105\u001b[0m \u001b[39mdef\u001b[39;00m \u001b[39mevaluate\u001b[39m(\u001b[39mself\u001b[39m, t\u001b[39m=\u001b[39m\u001b[39mNone\u001b[39;00m, y\u001b[39m=\u001b[39m\u001b[39mNone\u001b[39;00m, y_dot\u001b[39m=\u001b[39m\u001b[39mNone\u001b[39;00m, inputs\u001b[39m=\u001b[39m\u001b[39mNone\u001b[39;00m):\n\u001b[0;32m    106\u001b[0m \u001b[39m    \u001b[39m\u001b[39m\"\"\"See :meth:`pybamm.Symbol.evaluate()`.\"\"\"\u001b[39;00m\n\u001b[1;32m--> 107\u001b[0m     left \u001b[39m=\u001b[39m \u001b[39mself\u001b[39;49m\u001b[39m.\u001b[39;49mleft\u001b[39m.\u001b[39;49mevaluate(t, y, y_dot, inputs)\n\u001b[0;32m    108\u001b[0m     right \u001b[39m=\u001b[39m \u001b[39mself\u001b[39m\u001b[39m.\u001b[39mright\u001b[39m.\u001b[39mevaluate(t, y, y_dot, inputs)\n\u001b[0;32m    109\u001b[0m     \u001b[39mreturn\u001b[39;00m \u001b[39mself\u001b[39m\u001b[39m.\u001b[39m_binary_evaluate(left, right)\n",
      "    \u001b[1;31m[... skipping similar frames: BinaryOperator.evaluate at line 107 (4 times)]\u001b[0m\n",
      "File \u001b[1;32mc:\\Users\\Vivian\\Dropbox (University of Michigan)\\from_box\\Research\\PyBaMM\\PyBaMM\\pybamm\\expression_tree\\binary_operators.py:107\u001b[0m, in \u001b[0;36mBinaryOperator.evaluate\u001b[1;34m(self, t, y, y_dot, inputs)\u001b[0m\n\u001b[0;32m    105\u001b[0m \u001b[39mdef\u001b[39;00m \u001b[39mevaluate\u001b[39m(\u001b[39mself\u001b[39m, t\u001b[39m=\u001b[39m\u001b[39mNone\u001b[39;00m, y\u001b[39m=\u001b[39m\u001b[39mNone\u001b[39;00m, y_dot\u001b[39m=\u001b[39m\u001b[39mNone\u001b[39;00m, inputs\u001b[39m=\u001b[39m\u001b[39mNone\u001b[39;00m):\n\u001b[0;32m    106\u001b[0m \u001b[39m    \u001b[39m\u001b[39m\"\"\"See :meth:`pybamm.Symbol.evaluate()`.\"\"\"\u001b[39;00m\n\u001b[1;32m--> 107\u001b[0m     left \u001b[39m=\u001b[39m \u001b[39mself\u001b[39;49m\u001b[39m.\u001b[39;49mleft\u001b[39m.\u001b[39;49mevaluate(t, y, y_dot, inputs)\n\u001b[0;32m    108\u001b[0m     right \u001b[39m=\u001b[39m \u001b[39mself\u001b[39m\u001b[39m.\u001b[39mright\u001b[39m.\u001b[39mevaluate(t, y, y_dot, inputs)\n\u001b[0;32m    109\u001b[0m     \u001b[39mreturn\u001b[39;00m \u001b[39mself\u001b[39m\u001b[39m.\u001b[39m_binary_evaluate(left, right)\n",
      "File \u001b[1;32mc:\\Users\\Vivian\\Dropbox (University of Michigan)\\from_box\\Research\\PyBaMM\\PyBaMM\\pybamm\\expression_tree\\functions.py:147\u001b[0m, in \u001b[0;36mFunction.evaluate\u001b[1;34m(self, t, y, y_dot, inputs)\u001b[0m\n\u001b[0;32m    145\u001b[0m \u001b[39mdef\u001b[39;00m \u001b[39mevaluate\u001b[39m(\u001b[39mself\u001b[39m, t\u001b[39m=\u001b[39m\u001b[39mNone\u001b[39;00m, y\u001b[39m=\u001b[39m\u001b[39mNone\u001b[39;00m, y_dot\u001b[39m=\u001b[39m\u001b[39mNone\u001b[39;00m, inputs\u001b[39m=\u001b[39m\u001b[39mNone\u001b[39;00m):\n\u001b[0;32m    146\u001b[0m \u001b[39m    \u001b[39m\u001b[39m\"\"\"See :meth:`pybamm.Symbol.evaluate()`.\"\"\"\u001b[39;00m\n\u001b[1;32m--> 147\u001b[0m     evaluated_children \u001b[39m=\u001b[39m [\n\u001b[0;32m    148\u001b[0m         child\u001b[39m.\u001b[39mevaluate(t, y, y_dot, inputs) \u001b[39mfor\u001b[39;00m child \u001b[39min\u001b[39;00m \u001b[39mself\u001b[39m\u001b[39m.\u001b[39mchildren\n\u001b[0;32m    149\u001b[0m     ]\n\u001b[0;32m    150\u001b[0m     \u001b[39mreturn\u001b[39;00m \u001b[39mself\u001b[39m\u001b[39m.\u001b[39m_function_evaluate(evaluated_children)\n",
      "File \u001b[1;32mc:\\Users\\Vivian\\Dropbox (University of Michigan)\\from_box\\Research\\PyBaMM\\PyBaMM\\pybamm\\expression_tree\\functions.py:148\u001b[0m, in \u001b[0;36m<listcomp>\u001b[1;34m(.0)\u001b[0m\n\u001b[0;32m    145\u001b[0m \u001b[39mdef\u001b[39;00m \u001b[39mevaluate\u001b[39m(\u001b[39mself\u001b[39m, t\u001b[39m=\u001b[39m\u001b[39mNone\u001b[39;00m, y\u001b[39m=\u001b[39m\u001b[39mNone\u001b[39;00m, y_dot\u001b[39m=\u001b[39m\u001b[39mNone\u001b[39;00m, inputs\u001b[39m=\u001b[39m\u001b[39mNone\u001b[39;00m):\n\u001b[0;32m    146\u001b[0m \u001b[39m    \u001b[39m\u001b[39m\"\"\"See :meth:`pybamm.Symbol.evaluate()`.\"\"\"\u001b[39;00m\n\u001b[0;32m    147\u001b[0m     evaluated_children \u001b[39m=\u001b[39m [\n\u001b[1;32m--> 148\u001b[0m         child\u001b[39m.\u001b[39;49mevaluate(t, y, y_dot, inputs) \u001b[39mfor\u001b[39;00m child \u001b[39min\u001b[39;00m \u001b[39mself\u001b[39m\u001b[39m.\u001b[39mchildren\n\u001b[0;32m    149\u001b[0m     ]\n\u001b[0;32m    150\u001b[0m     \u001b[39mreturn\u001b[39;00m \u001b[39mself\u001b[39m\u001b[39m.\u001b[39m_function_evaluate(evaluated_children)\n",
      "File \u001b[1;32mc:\\Users\\Vivian\\Dropbox (University of Michigan)\\from_box\\Research\\PyBaMM\\PyBaMM\\pybamm\\expression_tree\\binary_operators.py:107\u001b[0m, in \u001b[0;36mBinaryOperator.evaluate\u001b[1;34m(self, t, y, y_dot, inputs)\u001b[0m\n\u001b[0;32m    105\u001b[0m \u001b[39mdef\u001b[39;00m \u001b[39mevaluate\u001b[39m(\u001b[39mself\u001b[39m, t\u001b[39m=\u001b[39m\u001b[39mNone\u001b[39;00m, y\u001b[39m=\u001b[39m\u001b[39mNone\u001b[39;00m, y_dot\u001b[39m=\u001b[39m\u001b[39mNone\u001b[39;00m, inputs\u001b[39m=\u001b[39m\u001b[39mNone\u001b[39;00m):\n\u001b[0;32m    106\u001b[0m \u001b[39m    \u001b[39m\u001b[39m\"\"\"See :meth:`pybamm.Symbol.evaluate()`.\"\"\"\u001b[39;00m\n\u001b[1;32m--> 107\u001b[0m     left \u001b[39m=\u001b[39m \u001b[39mself\u001b[39;49m\u001b[39m.\u001b[39;49mleft\u001b[39m.\u001b[39;49mevaluate(t, y, y_dot, inputs)\n\u001b[0;32m    108\u001b[0m     right \u001b[39m=\u001b[39m \u001b[39mself\u001b[39m\u001b[39m.\u001b[39mright\u001b[39m.\u001b[39mevaluate(t, y, y_dot, inputs)\n\u001b[0;32m    109\u001b[0m     \u001b[39mreturn\u001b[39;00m \u001b[39mself\u001b[39m\u001b[39m.\u001b[39m_binary_evaluate(left, right)\n",
      "File \u001b[1;32mc:\\Users\\Vivian\\Dropbox (University of Michigan)\\from_box\\Research\\PyBaMM\\PyBaMM\\pybamm\\expression_tree\\symbol.py:758\u001b[0m, in \u001b[0;36mSymbol.evaluate\u001b[1;34m(self, t, y, y_dot, inputs)\u001b[0m\n\u001b[0;32m    738\u001b[0m \u001b[39mdef\u001b[39;00m \u001b[39mevaluate\u001b[39m(\u001b[39mself\u001b[39m, t\u001b[39m=\u001b[39m\u001b[39mNone\u001b[39;00m, y\u001b[39m=\u001b[39m\u001b[39mNone\u001b[39;00m, y_dot\u001b[39m=\u001b[39m\u001b[39mNone\u001b[39;00m, inputs\u001b[39m=\u001b[39m\u001b[39mNone\u001b[39;00m):\n\u001b[0;32m    739\u001b[0m \u001b[39m    \u001b[39m\u001b[39m\"\"\"Evaluate expression tree (wrapper to allow using dict of known values).\u001b[39;00m\n\u001b[0;32m    740\u001b[0m \n\u001b[0;32m    741\u001b[0m \u001b[39m    Parameters\u001b[39;00m\n\u001b[1;32m   (...)\u001b[0m\n\u001b[0;32m    756\u001b[0m \u001b[39m        the node evaluated at (t,y)\u001b[39;00m\n\u001b[0;32m    757\u001b[0m \u001b[39m    \"\"\"\u001b[39;00m\n\u001b[1;32m--> 758\u001b[0m     \u001b[39mreturn\u001b[39;00m \u001b[39mself\u001b[39;49m\u001b[39m.\u001b[39;49m_base_evaluate(t, y, y_dot, inputs)\n",
      "File \u001b[1;32mc:\\Users\\Vivian\\Dropbox (University of Michigan)\\from_box\\Research\\PyBaMM\\PyBaMM\\pybamm\\expression_tree\\symbol.py:733\u001b[0m, in \u001b[0;36mSymbol._base_evaluate\u001b[1;34m(self, t, y, y_dot, inputs)\u001b[0m\n\u001b[0;32m    712\u001b[0m \u001b[39mdef\u001b[39;00m \u001b[39m_base_evaluate\u001b[39m(\u001b[39mself\u001b[39m, t\u001b[39m=\u001b[39m\u001b[39mNone\u001b[39;00m, y\u001b[39m=\u001b[39m\u001b[39mNone\u001b[39;00m, y_dot\u001b[39m=\u001b[39m\u001b[39mNone\u001b[39;00m, inputs\u001b[39m=\u001b[39m\u001b[39mNone\u001b[39;00m):\n\u001b[0;32m    713\u001b[0m \u001b[39m    \u001b[39m\u001b[39m\"\"\"\u001b[39;00m\n\u001b[0;32m    714\u001b[0m \u001b[39m    evaluate expression tree.\u001b[39;00m\n\u001b[0;32m    715\u001b[0m \n\u001b[1;32m   (...)\u001b[0m\n\u001b[0;32m    731\u001b[0m \u001b[39m        (default None)\u001b[39;00m\n\u001b[0;32m    732\u001b[0m \u001b[39m    \"\"\"\u001b[39;00m\n\u001b[1;32m--> 733\u001b[0m     \u001b[39mraise\u001b[39;00m \u001b[39mNotImplementedError\u001b[39;00m(\n\u001b[0;32m    734\u001b[0m         \u001b[39m\"\u001b[39m\u001b[39mmethod self.evaluate() not implemented for symbol \u001b[39m\u001b[39m\"\u001b[39m\n\u001b[0;32m    735\u001b[0m         \u001b[39m\"\u001b[39m\u001b[39m{!s}\u001b[39;00m\u001b[39m of type \u001b[39m\u001b[39m{}\u001b[39;00m\u001b[39m\"\u001b[39m\u001b[39m.\u001b[39mformat(\u001b[39mself\u001b[39m, \u001b[39mtype\u001b[39m(\u001b[39mself\u001b[39m))\n\u001b[0;32m    736\u001b[0m     )\n",
      "\u001b[1;31mNotImplementedError\u001b[0m: method self.evaluate() not implemented for symbol Typical current [A] of type <class 'pybamm.expression_tree.parameter.Parameter'>"
     ]
    }
   ],
   "source": [
    "t_end = 300\n",
    "t_eval = np.linspace(0,t_end,t_end*10)\n",
    "\n",
    "model = pybamm.BaseModel()\n",
    "\n",
    "model.submodels = {\n",
    "    \"venting\": PouchVenting(param),\n",
    "    # 'thermal': pybamm.thermal.Lumped(parameters),\n",
    "}\n",
    "model.build_model()\n",
    "display(list(model.variables))\n",
    "solver = pybamm.CasadiSolver()\n",
    "# solution = solver.solve(model, t_eval, external_variables={'X-averaged negative electrode temperature':50+273.15})\n",
    "solution = solver.solve(model, t_eval)"
   ]
  },
  {
   "cell_type": "code",
   "execution_count": 3,
   "metadata": {},
   "outputs": [
    {
     "data": {
      "application/vnd.jupyter.widget-view+json": {
       "model_id": "d851e17fbb5e4bae8b7473e35911597a",
       "version_major": 2,
       "version_minor": 0
      },
      "text/plain": [
       "interactive(children=(FloatSlider(value=0.0, description='t', max=1.0, step=0.01), Output()), _dom_classes=('w…"
      ]
     },
     "metadata": {},
     "output_type": "display_data"
    },
    {
     "data": {
      "text/plain": [
       "<pybamm.plotting.quick_plot.QuickPlot at 0x2160f233160>"
      ]
     },
     "execution_count": 3,
     "metadata": {},
     "output_type": "execute_result"
    }
   ],
   "source": [
    "model = pybamm.BaseModel()\n",
    "model.submodels = {\"venting\": PouchVenting(None, \"Negative\")}\n",
    "model.build_model()\n",
    "\n",
    "solver = pybamm.CasadiSolver()\n",
    "sim = pybamm.Simulation(\n",
    "        model,\n",
    "        solver=solver,\n",
    ")\n",
    "sim.solve([0,1])  \n",
    "sim.plot(['u','v'])"
   ]
  },
  {
   "cell_type": "code",
   "execution_count": null,
   "metadata": {},
   "outputs": [],
   "source": []
  }
 ],
 "metadata": {
  "kernelspec": {
   "display_name": "venv",
   "language": "python",
   "name": "python3"
  },
  "language_info": {
   "codemirror_mode": {
    "name": "ipython",
    "version": 3
   },
   "file_extension": ".py",
   "mimetype": "text/x-python",
   "name": "python",
   "nbconvert_exporter": "python",
   "pygments_lexer": "ipython3",
   "version": "3.9.13"
  },
  "orig_nbformat": 4
 },
 "nbformat": 4,
 "nbformat_minor": 2
}
